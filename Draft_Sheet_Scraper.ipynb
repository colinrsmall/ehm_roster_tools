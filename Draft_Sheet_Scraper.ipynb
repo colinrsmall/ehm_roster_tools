{
  "nbformat": 4,
  "nbformat_minor": 0,
  "metadata": {
    "colab": {
      "name": "Draft Sheet Scraper",
      "provenance": [],
      "collapsed_sections": [],
      "authorship_tag": "ABX9TyN/HVN1TdwAnjw8RK9iWIzP",
      "include_colab_link": true
    },
    "kernelspec": {
      "display_name": "Python 3",
      "name": "python3"
    },
    "widgets": {
      "application/vnd.jupyter.widget-state+json": {
        "a0e49e15f04d4d47b8c1adf5efcc358e": {
          "model_module": "@jupyter-widgets/controls",
          "model_name": "HBoxModel",
          "model_module_version": "1.5.0",
          "state": {
            "_view_name": "HBoxView",
            "_dom_classes": [],
            "_model_name": "HBoxModel",
            "_view_module": "@jupyter-widgets/controls",
            "_model_module_version": "1.5.0",
            "_view_count": null,
            "_view_module_version": "1.5.0",
            "box_style": "",
            "layout": "IPY_MODEL_bfaca98655c042d4a0eef3b1063d2bf3",
            "_model_module": "@jupyter-widgets/controls",
            "children": [
              "IPY_MODEL_ff042bcdb40245aeb9ca8b4538865129",
              "IPY_MODEL_1467eb8b00a14e2bb2a3610a78229d1c",
              "IPY_MODEL_805722d9fe184636bbef73e8dc9f4c57"
            ]
          }
        },
        "bfaca98655c042d4a0eef3b1063d2bf3": {
          "model_module": "@jupyter-widgets/base",
          "model_name": "LayoutModel",
          "model_module_version": "1.2.0",
          "state": {
            "_view_name": "LayoutView",
            "grid_template_rows": null,
            "right": null,
            "justify_content": null,
            "_view_module": "@jupyter-widgets/base",
            "overflow": null,
            "_model_module_version": "1.2.0",
            "_view_count": null,
            "flex_flow": null,
            "width": null,
            "min_width": null,
            "border": null,
            "align_items": null,
            "bottom": null,
            "_model_module": "@jupyter-widgets/base",
            "top": null,
            "grid_column": null,
            "overflow_y": null,
            "overflow_x": null,
            "grid_auto_flow": null,
            "grid_area": null,
            "grid_template_columns": null,
            "flex": null,
            "_model_name": "LayoutModel",
            "justify_items": null,
            "grid_row": null,
            "max_height": null,
            "align_content": null,
            "visibility": null,
            "align_self": null,
            "height": null,
            "min_height": null,
            "padding": null,
            "grid_auto_rows": null,
            "grid_gap": null,
            "max_width": null,
            "order": null,
            "_view_module_version": "1.2.0",
            "grid_template_areas": null,
            "object_position": null,
            "object_fit": null,
            "grid_auto_columns": null,
            "margin": null,
            "display": null,
            "left": null
          }
        },
        "ff042bcdb40245aeb9ca8b4538865129": {
          "model_module": "@jupyter-widgets/controls",
          "model_name": "HTMLModel",
          "model_module_version": "1.5.0",
          "state": {
            "_view_name": "HTMLView",
            "style": "IPY_MODEL_1990f67106f24bd3869a15ce9d76d1ec",
            "_dom_classes": [],
            "description": "",
            "_model_name": "HTMLModel",
            "placeholder": "​",
            "_view_module": "@jupyter-widgets/controls",
            "_model_module_version": "1.5.0",
            "value": "Leagues: 100%",
            "_view_count": null,
            "_view_module_version": "1.5.0",
            "description_tooltip": null,
            "_model_module": "@jupyter-widgets/controls",
            "layout": "IPY_MODEL_3fce77b1469d4741ae409f9661603da9"
          }
        },
        "1467eb8b00a14e2bb2a3610a78229d1c": {
          "model_module": "@jupyter-widgets/controls",
          "model_name": "FloatProgressModel",
          "model_module_version": "1.5.0",
          "state": {
            "_view_name": "ProgressView",
            "style": "IPY_MODEL_a46bacd8a3c84c5ca26a418bbc9e5339",
            "_dom_classes": [],
            "description": "",
            "_model_name": "FloatProgressModel",
            "bar_style": "success",
            "max": 1,
            "_view_module": "@jupyter-widgets/controls",
            "_model_module_version": "1.5.0",
            "value": 1,
            "_view_count": null,
            "_view_module_version": "1.5.0",
            "orientation": "horizontal",
            "min": 0,
            "description_tooltip": null,
            "_model_module": "@jupyter-widgets/controls",
            "layout": "IPY_MODEL_c7c05eca10444401bdb5621e1a3b5c0d"
          }
        },
        "805722d9fe184636bbef73e8dc9f4c57": {
          "model_module": "@jupyter-widgets/controls",
          "model_name": "HTMLModel",
          "model_module_version": "1.5.0",
          "state": {
            "_view_name": "HTMLView",
            "style": "IPY_MODEL_216383a7b1d14324ab9abac9ac607666",
            "_dom_classes": [],
            "description": "",
            "_model_name": "HTMLModel",
            "placeholder": "​",
            "_view_module": "@jupyter-widgets/controls",
            "_model_module_version": "1.5.0",
            "value": " 1/1 [03:01&lt;00:00, 181.99s/it]",
            "_view_count": null,
            "_view_module_version": "1.5.0",
            "description_tooltip": null,
            "_model_module": "@jupyter-widgets/controls",
            "layout": "IPY_MODEL_9fe6126b182f43f3976b56b8283da59b"
          }
        },
        "1990f67106f24bd3869a15ce9d76d1ec": {
          "model_module": "@jupyter-widgets/controls",
          "model_name": "DescriptionStyleModel",
          "model_module_version": "1.5.0",
          "state": {
            "_view_name": "StyleView",
            "_model_name": "DescriptionStyleModel",
            "description_width": "",
            "_view_module": "@jupyter-widgets/base",
            "_model_module_version": "1.5.0",
            "_view_count": null,
            "_view_module_version": "1.2.0",
            "_model_module": "@jupyter-widgets/controls"
          }
        },
        "3fce77b1469d4741ae409f9661603da9": {
          "model_module": "@jupyter-widgets/base",
          "model_name": "LayoutModel",
          "model_module_version": "1.2.0",
          "state": {
            "_view_name": "LayoutView",
            "grid_template_rows": null,
            "right": null,
            "justify_content": null,
            "_view_module": "@jupyter-widgets/base",
            "overflow": null,
            "_model_module_version": "1.2.0",
            "_view_count": null,
            "flex_flow": null,
            "width": null,
            "min_width": null,
            "border": null,
            "align_items": null,
            "bottom": null,
            "_model_module": "@jupyter-widgets/base",
            "top": null,
            "grid_column": null,
            "overflow_y": null,
            "overflow_x": null,
            "grid_auto_flow": null,
            "grid_area": null,
            "grid_template_columns": null,
            "flex": null,
            "_model_name": "LayoutModel",
            "justify_items": null,
            "grid_row": null,
            "max_height": null,
            "align_content": null,
            "visibility": null,
            "align_self": null,
            "height": null,
            "min_height": null,
            "padding": null,
            "grid_auto_rows": null,
            "grid_gap": null,
            "max_width": null,
            "order": null,
            "_view_module_version": "1.2.0",
            "grid_template_areas": null,
            "object_position": null,
            "object_fit": null,
            "grid_auto_columns": null,
            "margin": null,
            "display": null,
            "left": null
          }
        },
        "a46bacd8a3c84c5ca26a418bbc9e5339": {
          "model_module": "@jupyter-widgets/controls",
          "model_name": "ProgressStyleModel",
          "model_module_version": "1.5.0",
          "state": {
            "_view_name": "StyleView",
            "_model_name": "ProgressStyleModel",
            "description_width": "",
            "_view_module": "@jupyter-widgets/base",
            "_model_module_version": "1.5.0",
            "_view_count": null,
            "_view_module_version": "1.2.0",
            "bar_color": null,
            "_model_module": "@jupyter-widgets/controls"
          }
        },
        "c7c05eca10444401bdb5621e1a3b5c0d": {
          "model_module": "@jupyter-widgets/base",
          "model_name": "LayoutModel",
          "model_module_version": "1.2.0",
          "state": {
            "_view_name": "LayoutView",
            "grid_template_rows": null,
            "right": null,
            "justify_content": null,
            "_view_module": "@jupyter-widgets/base",
            "overflow": null,
            "_model_module_version": "1.2.0",
            "_view_count": null,
            "flex_flow": null,
            "width": null,
            "min_width": null,
            "border": null,
            "align_items": null,
            "bottom": null,
            "_model_module": "@jupyter-widgets/base",
            "top": null,
            "grid_column": null,
            "overflow_y": null,
            "overflow_x": null,
            "grid_auto_flow": null,
            "grid_area": null,
            "grid_template_columns": null,
            "flex": null,
            "_model_name": "LayoutModel",
            "justify_items": null,
            "grid_row": null,
            "max_height": null,
            "align_content": null,
            "visibility": null,
            "align_self": null,
            "height": null,
            "min_height": null,
            "padding": null,
            "grid_auto_rows": null,
            "grid_gap": null,
            "max_width": null,
            "order": null,
            "_view_module_version": "1.2.0",
            "grid_template_areas": null,
            "object_position": null,
            "object_fit": null,
            "grid_auto_columns": null,
            "margin": null,
            "display": null,
            "left": null
          }
        },
        "216383a7b1d14324ab9abac9ac607666": {
          "model_module": "@jupyter-widgets/controls",
          "model_name": "DescriptionStyleModel",
          "model_module_version": "1.5.0",
          "state": {
            "_view_name": "StyleView",
            "_model_name": "DescriptionStyleModel",
            "description_width": "",
            "_view_module": "@jupyter-widgets/base",
            "_model_module_version": "1.5.0",
            "_view_count": null,
            "_view_module_version": "1.2.0",
            "_model_module": "@jupyter-widgets/controls"
          }
        },
        "9fe6126b182f43f3976b56b8283da59b": {
          "model_module": "@jupyter-widgets/base",
          "model_name": "LayoutModel",
          "model_module_version": "1.2.0",
          "state": {
            "_view_name": "LayoutView",
            "grid_template_rows": null,
            "right": null,
            "justify_content": null,
            "_view_module": "@jupyter-widgets/base",
            "overflow": null,
            "_model_module_version": "1.2.0",
            "_view_count": null,
            "flex_flow": null,
            "width": null,
            "min_width": null,
            "border": null,
            "align_items": null,
            "bottom": null,
            "_model_module": "@jupyter-widgets/base",
            "top": null,
            "grid_column": null,
            "overflow_y": null,
            "overflow_x": null,
            "grid_auto_flow": null,
            "grid_area": null,
            "grid_template_columns": null,
            "flex": null,
            "_model_name": "LayoutModel",
            "justify_items": null,
            "grid_row": null,
            "max_height": null,
            "align_content": null,
            "visibility": null,
            "align_self": null,
            "height": null,
            "min_height": null,
            "padding": null,
            "grid_auto_rows": null,
            "grid_gap": null,
            "max_width": null,
            "order": null,
            "_view_module_version": "1.2.0",
            "grid_template_areas": null,
            "object_position": null,
            "object_fit": null,
            "grid_auto_columns": null,
            "margin": null,
            "display": null,
            "left": null
          }
        }
      }
    }
  },
  "cells": [
    {
      "cell_type": "markdown",
      "metadata": {
        "id": "view-in-github",
        "colab_type": "text"
      },
      "source": [
        "<a href=\"https://colab.research.google.com/github/colinrsmall/ehm_roster_tools/blob/master/Draft_Sheet_Scraper.ipynb\" target=\"_parent\"><img src=\"https://colab.research.google.com/assets/colab-badge.svg\" alt=\"Open In Colab\"/></a>"
      ]
    },
    {
      "cell_type": "code",
      "source": [
        "!pip install beautifulsoup4 --upgrade"
      ],
      "metadata": {
        "colab": {
          "base_uri": "https://localhost:8080/"
        },
        "id": "sz_0DZxEj2BY",
        "outputId": "4a9af1b5-358b-4195-bf5d-59df7106cca1"
      },
      "execution_count": 21,
      "outputs": [
        {
          "output_type": "stream",
          "name": "stdout",
          "text": [
            "Requirement already satisfied: beautifulsoup4 in /usr/local/lib/python3.7/dist-packages (4.10.0)\n",
            "Requirement already satisfied: soupsieve>1.2 in /usr/local/lib/python3.7/dist-packages (from beautifulsoup4) (2.3.1)\n"
          ]
        }
      ]
    },
    {
      "cell_type": "markdown",
      "metadata": {
        "id": "S_MhoPkzgQS0"
      },
      "source": [
        "# Instructions:\n",
        "\n",
        "To scrape leagues, add or remove links from the following \"leagues\" form field. The field should be a comma-separated string of links to either leagues or drafts from EliteProspects.\n",
        "\n",
        "To change which season you're scraping for, change the \"season\" field following the list of leagues. The string should be of the format 'YYYY-YY' (such as '2019-20' or '2017-18').\n",
        "\n",
        "The \"contract_expiry_prefix\" field should be set set as the day and month at which you expect players' contracts to expire in-game. For example, if you want all players scraped with this notebook to have their contracts expire on June 1st of a respective year, set the string to \"1.6.XXXX\".\n",
        "\n",
        "If you want the scraper to print out links for players who are missing information on their EP page, change show_error_links to True.\n",
        "\n",
        "If include_nhl_signed is ticked, players who are signed to an NHL team but are on loan (as listed in EP) will be listed as playing for the team that they are on loan to (and thus will not be listed as playing for their signed NHL team)."
      ]
    },
    {
      "cell_type": "code",
      "metadata": {
        "id": "1tzBQoJsgDoG"
      },
      "source": [
        "leagues = \"https://www.eliteprospects.com/draft/cjhl-draft/2011\" #@param {type:\"string\"}\n",
        "leagues = leagues.split(',')\n",
        "\n",
        "use_google_drive = False #@param {type:\"boolean\"}"
      ],
      "execution_count": 22,
      "outputs": []
    },
    {
      "cell_type": "code",
      "metadata": {
        "id": "DuRKi8nNDvK4"
      },
      "source": [
        "if use_google_drive:\n",
        "  from google.colab import drive\n",
        "  drive.mount('/content/drive')\n",
        "  drive_mounted = True"
      ],
      "execution_count": 23,
      "outputs": []
    },
    {
      "cell_type": "markdown",
      "metadata": {
        "id": "Vy7JIACigLs-"
      },
      "source": [
        "# Expand this if you want to look at the code (optional)"
      ]
    },
    {
      "cell_type": "code",
      "metadata": {
        "id": "jiJNPVH7hiXQ",
        "colab": {
          "base_uri": "https://localhost:8080/"
        },
        "outputId": "ac6f5744-69da-4655-8fe9-b626f34d1188"
      },
      "source": [
        "!mkdir '/content/leagues/'"
      ],
      "execution_count": 24,
      "outputs": [
        {
          "output_type": "stream",
          "name": "stdout",
          "text": [
            "mkdir: cannot create directory ‘/content/leagues/’: File exists\n"
          ]
        }
      ]
    },
    {
      "cell_type": "code",
      "metadata": {
        "id": "nA6_8mgBLj2H"
      },
      "source": [
        "import requests, random, csv, traceback, time, urllib.request\n",
        "from bs4 import BeautifulSoup\n",
        "from tqdm.notebook import tqdm\n",
        "from datetime import datetime, date, timedelta\n",
        "from google.colab import files\n",
        "from dateutil.relativedelta import relativedelta"
      ],
      "execution_count": 25,
      "outputs": []
    },
    {
      "cell_type": "code",
      "metadata": {
        "id": "LG9qclV3wWHz"
      },
      "source": [
        "def get_name(player_page):\n",
        "  name = player_page.find('h1', class_=\"ep-entity-header__name\").text.strip()\n",
        "  if '.' in name:\n",
        "    first_name = name[:name.rfind('.')+1]\n",
        "    last_name = name[name.rfind('.')+1:].split('\\n')[0].strip()\n",
        "  else:\n",
        "    name = name.split(' ')\n",
        "    first_name = name[0]\n",
        "    last_name = ' '.join(name[1:]).split('\\n')[0].strip()\n",
        "  return first_name, last_name\n",
        "\n",
        "\n",
        "def get_dob(player_page):\n",
        "  dob_search_text = \"\"\"\n",
        "                                        Date of Birth\n",
        "                                    \"\"\"\n",
        "  try:\n",
        "    dob_text = player_page.find('div', text=dob_search_text).next_element.next_element.next_element.text.strip()\n",
        "    dob = datetime.strptime(dob_text, '%b %d, %Y').strftime('%-d.%-m.%Y')\n",
        "  except ValueError as e:\n",
        "    try:\n",
        "      dob = datetime.strptime(dob_text, '%Y').strftime('%Y')\n",
        "    except ValueError as e:\n",
        "      dob = datetime.strptime(dob_text, '%b, %Y').strftime('%m.%Y')\n",
        "  except Exception as e:\n",
        "    dob = \"\"\n",
        "    print(f'Missing dob information: {get_name(player_page)[0]} {get_name(player_page)[1]}')\n",
        "  return dob\n",
        "\n",
        "\n",
        "def get_player_page(link):\n",
        "    player_page = requests.get(link, headers = {\n",
        "        'user-agent': 'Mozilla/5.0 (Macintosh; Intel Mac OS X 10_11_6) AppleWebKit/537.36 (KHTML, like Gecko) Chrome/56.0.2924.87 Safari/537.36',\n",
        "        'referrer': 'https://google.com',\n",
        "        'Accept': 'text/html,application/xhtml+xml,application/xml;q=0.9,image/webp,image/apng,*/*;q=0.8',\n",
        "        'Accept-Encoding': 'gzip, deflate, br',\n",
        "        'Accept-Language': 'en-US,en;q=0.9',\n",
        "        'Pragma': 'no-cache',\n",
        "    })\n",
        "    return BeautifulSoup(player_page.content)"
      ],
      "execution_count": 26,
      "outputs": []
    },
    {
      "cell_type": "code",
      "metadata": {
        "id": "ytrwo4LJP1Rb"
      },
      "source": [
        "def scrape():\n",
        "  for league in tqdm(leagues, desc='Leagues'):\n",
        "    draft = \"draft\" in league\n",
        "    team = \"team\" in league\n",
        "\n",
        "    home_page_link = league\n",
        "    home_page_page = requests.get(home_page_link)\n",
        "    print(home_page_link)\n",
        "    home_page = BeautifulSoup(home_page_page.content)\n",
        "\n",
        "    page_name = home_page.select(\".semi-logo\")[0].text.strip() if team else home_page.select(\".plytitle\")[0].text.strip()\n",
        "    page_name = ' '.join(page_name.replace('\\n', '').split()).strip()\n",
        "\n",
        "    with open(f'/content/leagues/{page_name}_draft_history.csv', 'w+', newline='', encoding='UTF-8') as draft_history_file:\n",
        "      draft_history_file.write('\\ufeff')\n",
        "      draft_history_writer = csv.writer(draft_history_file, delimiter=',')\n",
        "      top_header = 'draft_history, dmy'\n",
        "      second_header = 'Draft, Year, Round, Overall, Club, First Name, Second Name, Date of Birth'\n",
        "      draft_history_writer.writerow(top_header.split(','))\n",
        "      draft_history_writer.writerow(second_header.split(','))\n",
        "\n",
        "      draft_round_tables = home_page.select('[data-sort-ajax-container=\"#drafted-players\"] tbody')\n",
        "\n",
        "      for round_number, table in enumerate(draft_round_tables):\n",
        "        for pick in table.select(\"tr:not(.title)\"):\n",
        "\n",
        "          player_link = pick.select(\".player a\")[0][\"href\"]\n",
        "          player_page = get_player_page(player_link)\n",
        "\n",
        "          picked_player = pick.select(\".player\")[0].text.strip()\n",
        "          first_name, last_name = get_name(player_page)\n",
        "          dob = get_dob(player_page)\n",
        "\n",
        "          overall = pick.select(\".overall.sorted\")[0].text.replace(\"#\",\"\").strip()\n",
        "          club = pick.select(\".team\")[0].text.strip()\n",
        "  \n",
        "          draft_history_writer.writerow([page_name, home_page_link[-4:], round_number, overall, club, first_name, last_name, dob])\n",
        "\n",
        "          time.sleep(random.random() * 3)"
      ],
      "execution_count": 27,
      "outputs": []
    },
    {
      "cell_type": "markdown",
      "metadata": {
        "id": "_H37N4evh1Qc"
      },
      "source": [
        "# Output"
      ]
    },
    {
      "cell_type": "code",
      "metadata": {
        "colab": {
          "base_uri": "https://localhost:8080/",
          "height": 67,
          "referenced_widgets": [
            "a0e49e15f04d4d47b8c1adf5efcc358e",
            "bfaca98655c042d4a0eef3b1063d2bf3",
            "ff042bcdb40245aeb9ca8b4538865129",
            "1467eb8b00a14e2bb2a3610a78229d1c",
            "805722d9fe184636bbef73e8dc9f4c57",
            "1990f67106f24bd3869a15ce9d76d1ec",
            "3fce77b1469d4741ae409f9661603da9",
            "a46bacd8a3c84c5ca26a418bbc9e5339",
            "c7c05eca10444401bdb5621e1a3b5c0d",
            "216383a7b1d14324ab9abac9ac607666",
            "9fe6126b182f43f3976b56b8283da59b"
          ]
        },
        "id": "girLjYxJh2cn",
        "outputId": "aafc3fab-bbbd-40d4-d200-a985ec98f7e4"
      },
      "source": [
        "scrape()"
      ],
      "execution_count": 28,
      "outputs": [
        {
          "output_type": "display_data",
          "data": {
            "application/vnd.jupyter.widget-view+json": {
              "model_id": "a0e49e15f04d4d47b8c1adf5efcc358e",
              "version_minor": 0,
              "version_major": 2
            },
            "text/plain": [
              "Leagues:   0%|          | 0/1 [00:00<?, ?it/s]"
            ]
          },
          "metadata": {}
        },
        {
          "output_type": "stream",
          "name": "stdout",
          "text": [
            "https://www.eliteprospects.com/draft/cjhl-draft/2011\n"
          ]
        }
      ]
    },
    {
      "cell_type": "code",
      "metadata": {
        "id": "Dt5CkyAnnAse",
        "colab": {
          "base_uri": "https://localhost:8080/"
        },
        "outputId": "1d954046-36ca-4a3f-d933-436941dcbfe7"
      },
      "source": [
        "time.sleep(5)\n",
        "!zip leagues.zip -r '/content/leagues/'\n",
        "\n",
        "if use_google_drive:\n",
        "  !mv leagues.zip /content/drive/MyDrive/leagues.zip"
      ],
      "execution_count": 29,
      "outputs": [
        {
          "output_type": "stream",
          "name": "stdout",
          "text": [
            "  adding: content/leagues/ (stored 0%)\n",
            "  adding: content/leagues/2011 CJHL Draft_draft_history.csv (deflated 68%)\n"
          ]
        }
      ]
    }
  ]
}