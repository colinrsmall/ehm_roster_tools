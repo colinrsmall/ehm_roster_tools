{
  "nbformat": 4,
  "nbformat_minor": 0,
  "metadata": {
    "colab": {
      "name": "EP Career History Scraper",
      "provenance": [],
      "collapsed_sections": [
        "inamXWxnt1CE"
      ],
      "toc_visible": true,
      "authorship_tag": "ABX9TyPYr02tK0mUB3cB1yjInq6W",
      "include_colab_link": true
    },
    "kernelspec": {
      "name": "python3",
      "display_name": "Python 3"
    },
    "widgets": {
      "application/vnd.jupyter.widget-state+json": {
        "82cbdfac7a46431385847991f0ba9829": {
          "model_module": "@jupyter-widgets/controls",
          "model_name": "HBoxModel",
          "state": {
            "_view_name": "HBoxView",
            "_dom_classes": [],
            "_model_name": "HBoxModel",
            "_view_module": "@jupyter-widgets/controls",
            "_model_module_version": "1.5.0",
            "_view_count": null,
            "_view_module_version": "1.5.0",
            "box_style": "",
            "layout": "IPY_MODEL_bd32a699032346eab7c5b2d7d3b9acde",
            "_model_module": "@jupyter-widgets/controls",
            "children": [
              "IPY_MODEL_0bb02b5e35d2416eb8d4f7bf5faac82a",
              "IPY_MODEL_5d977169dfec48fca8fa67eed2144015"
            ]
          }
        },
        "bd32a699032346eab7c5b2d7d3b9acde": {
          "model_module": "@jupyter-widgets/base",
          "model_name": "LayoutModel",
          "state": {
            "_view_name": "LayoutView",
            "grid_template_rows": null,
            "right": null,
            "justify_content": null,
            "_view_module": "@jupyter-widgets/base",
            "overflow": null,
            "_model_module_version": "1.2.0",
            "_view_count": null,
            "flex_flow": null,
            "width": null,
            "min_width": null,
            "border": null,
            "align_items": null,
            "bottom": null,
            "_model_module": "@jupyter-widgets/base",
            "top": null,
            "grid_column": null,
            "overflow_y": null,
            "overflow_x": null,
            "grid_auto_flow": null,
            "grid_area": null,
            "grid_template_columns": null,
            "flex": null,
            "_model_name": "LayoutModel",
            "justify_items": null,
            "grid_row": null,
            "max_height": null,
            "align_content": null,
            "visibility": null,
            "align_self": null,
            "height": null,
            "min_height": null,
            "padding": null,
            "grid_auto_rows": null,
            "grid_gap": null,
            "max_width": null,
            "order": null,
            "_view_module_version": "1.2.0",
            "grid_template_areas": null,
            "object_position": null,
            "object_fit": null,
            "grid_auto_columns": null,
            "margin": null,
            "display": null,
            "left": null
          }
        },
        "0bb02b5e35d2416eb8d4f7bf5faac82a": {
          "model_module": "@jupyter-widgets/controls",
          "model_name": "FloatProgressModel",
          "state": {
            "_view_name": "ProgressView",
            "style": "IPY_MODEL_76e41bc37aaa43298c101785c92cdbdb",
            "_dom_classes": [],
            "description": "Leagues:   0%",
            "_model_name": "FloatProgressModel",
            "bar_style": "danger",
            "max": 1,
            "_view_module": "@jupyter-widgets/controls",
            "_model_module_version": "1.5.0",
            "value": 0,
            "_view_count": null,
            "_view_module_version": "1.5.0",
            "orientation": "horizontal",
            "min": 0,
            "description_tooltip": null,
            "_model_module": "@jupyter-widgets/controls",
            "layout": "IPY_MODEL_6b4aee73c2ba469d9c8f01aa6b879858"
          }
        },
        "5d977169dfec48fca8fa67eed2144015": {
          "model_module": "@jupyter-widgets/controls",
          "model_name": "HTMLModel",
          "state": {
            "_view_name": "HTMLView",
            "style": "IPY_MODEL_6b0baf60e6ee462ea15301ae64877b08",
            "_dom_classes": [],
            "description": "",
            "_model_name": "HTMLModel",
            "placeholder": "​",
            "_view_module": "@jupyter-widgets/controls",
            "_model_module_version": "1.5.0",
            "value": " 0/1 [00:13&lt;?, ?it/s]",
            "_view_count": null,
            "_view_module_version": "1.5.0",
            "description_tooltip": null,
            "_model_module": "@jupyter-widgets/controls",
            "layout": "IPY_MODEL_51a7da41730d44d9a462ebfe8b36823c"
          }
        },
        "76e41bc37aaa43298c101785c92cdbdb": {
          "model_module": "@jupyter-widgets/controls",
          "model_name": "ProgressStyleModel",
          "state": {
            "_view_name": "StyleView",
            "_model_name": "ProgressStyleModel",
            "description_width": "initial",
            "_view_module": "@jupyter-widgets/base",
            "_model_module_version": "1.5.0",
            "_view_count": null,
            "_view_module_version": "1.2.0",
            "bar_color": null,
            "_model_module": "@jupyter-widgets/controls"
          }
        },
        "6b4aee73c2ba469d9c8f01aa6b879858": {
          "model_module": "@jupyter-widgets/base",
          "model_name": "LayoutModel",
          "state": {
            "_view_name": "LayoutView",
            "grid_template_rows": null,
            "right": null,
            "justify_content": null,
            "_view_module": "@jupyter-widgets/base",
            "overflow": null,
            "_model_module_version": "1.2.0",
            "_view_count": null,
            "flex_flow": null,
            "width": null,
            "min_width": null,
            "border": null,
            "align_items": null,
            "bottom": null,
            "_model_module": "@jupyter-widgets/base",
            "top": null,
            "grid_column": null,
            "overflow_y": null,
            "overflow_x": null,
            "grid_auto_flow": null,
            "grid_area": null,
            "grid_template_columns": null,
            "flex": null,
            "_model_name": "LayoutModel",
            "justify_items": null,
            "grid_row": null,
            "max_height": null,
            "align_content": null,
            "visibility": null,
            "align_self": null,
            "height": null,
            "min_height": null,
            "padding": null,
            "grid_auto_rows": null,
            "grid_gap": null,
            "max_width": null,
            "order": null,
            "_view_module_version": "1.2.0",
            "grid_template_areas": null,
            "object_position": null,
            "object_fit": null,
            "grid_auto_columns": null,
            "margin": null,
            "display": null,
            "left": null
          }
        },
        "6b0baf60e6ee462ea15301ae64877b08": {
          "model_module": "@jupyter-widgets/controls",
          "model_name": "DescriptionStyleModel",
          "state": {
            "_view_name": "StyleView",
            "_model_name": "DescriptionStyleModel",
            "description_width": "",
            "_view_module": "@jupyter-widgets/base",
            "_model_module_version": "1.5.0",
            "_view_count": null,
            "_view_module_version": "1.2.0",
            "_model_module": "@jupyter-widgets/controls"
          }
        },
        "51a7da41730d44d9a462ebfe8b36823c": {
          "model_module": "@jupyter-widgets/base",
          "model_name": "LayoutModel",
          "state": {
            "_view_name": "LayoutView",
            "grid_template_rows": null,
            "right": null,
            "justify_content": null,
            "_view_module": "@jupyter-widgets/base",
            "overflow": null,
            "_model_module_version": "1.2.0",
            "_view_count": null,
            "flex_flow": null,
            "width": null,
            "min_width": null,
            "border": null,
            "align_items": null,
            "bottom": null,
            "_model_module": "@jupyter-widgets/base",
            "top": null,
            "grid_column": null,
            "overflow_y": null,
            "overflow_x": null,
            "grid_auto_flow": null,
            "grid_area": null,
            "grid_template_columns": null,
            "flex": null,
            "_model_name": "LayoutModel",
            "justify_items": null,
            "grid_row": null,
            "max_height": null,
            "align_content": null,
            "visibility": null,
            "align_self": null,
            "height": null,
            "min_height": null,
            "padding": null,
            "grid_auto_rows": null,
            "grid_gap": null,
            "max_width": null,
            "order": null,
            "_view_module_version": "1.2.0",
            "grid_template_areas": null,
            "object_position": null,
            "object_fit": null,
            "grid_auto_columns": null,
            "margin": null,
            "display": null,
            "left": null
          }
        },
        "14c1da7221754810b72954b7d2c67dec": {
          "model_module": "@jupyter-widgets/controls",
          "model_name": "HBoxModel",
          "state": {
            "_view_name": "HBoxView",
            "_dom_classes": [],
            "_model_name": "HBoxModel",
            "_view_module": "@jupyter-widgets/controls",
            "_model_module_version": "1.5.0",
            "_view_count": null,
            "_view_module_version": "1.5.0",
            "box_style": "",
            "layout": "IPY_MODEL_59a07c874da548ccb47b706ef147451a",
            "_model_module": "@jupyter-widgets/controls",
            "children": [
              "IPY_MODEL_d698a7b63400457f8d5908596f3e9022",
              "IPY_MODEL_24588d878e0f4c2f9423f043791f3405"
            ]
          }
        },
        "59a07c874da548ccb47b706ef147451a": {
          "model_module": "@jupyter-widgets/base",
          "model_name": "LayoutModel",
          "state": {
            "_view_name": "LayoutView",
            "grid_template_rows": null,
            "right": null,
            "justify_content": null,
            "_view_module": "@jupyter-widgets/base",
            "overflow": null,
            "_model_module_version": "1.2.0",
            "_view_count": null,
            "flex_flow": null,
            "width": null,
            "min_width": null,
            "border": null,
            "align_items": null,
            "bottom": null,
            "_model_module": "@jupyter-widgets/base",
            "top": null,
            "grid_column": null,
            "overflow_y": null,
            "overflow_x": null,
            "grid_auto_flow": null,
            "grid_area": null,
            "grid_template_columns": null,
            "flex": null,
            "_model_name": "LayoutModel",
            "justify_items": null,
            "grid_row": null,
            "max_height": null,
            "align_content": null,
            "visibility": null,
            "align_self": null,
            "height": null,
            "min_height": null,
            "padding": null,
            "grid_auto_rows": null,
            "grid_gap": null,
            "max_width": null,
            "order": null,
            "_view_module_version": "1.2.0",
            "grid_template_areas": null,
            "object_position": null,
            "object_fit": null,
            "grid_auto_columns": null,
            "margin": null,
            "display": null,
            "left": null
          }
        },
        "d698a7b63400457f8d5908596f3e9022": {
          "model_module": "@jupyter-widgets/controls",
          "model_name": "FloatProgressModel",
          "state": {
            "_view_name": "ProgressView",
            "style": "IPY_MODEL_f9de1a22c78543d9b304c35ef47e19c1",
            "_dom_classes": [],
            "description": "Players:  12%",
            "_model_name": "FloatProgressModel",
            "bar_style": "danger",
            "max": 26,
            "_view_module": "@jupyter-widgets/controls",
            "_model_module_version": "1.5.0",
            "value": 3,
            "_view_count": null,
            "_view_module_version": "1.5.0",
            "orientation": "horizontal",
            "min": 0,
            "description_tooltip": null,
            "_model_module": "@jupyter-widgets/controls",
            "layout": "IPY_MODEL_e38704271d804394bbf334a02fb44615"
          }
        },
        "24588d878e0f4c2f9423f043791f3405": {
          "model_module": "@jupyter-widgets/controls",
          "model_name": "HTMLModel",
          "state": {
            "_view_name": "HTMLView",
            "style": "IPY_MODEL_0c90ecd4648440b8921a07d6b6af04bd",
            "_dom_classes": [],
            "description": "",
            "_model_name": "HTMLModel",
            "placeholder": "​",
            "_view_module": "@jupyter-widgets/controls",
            "_model_module_version": "1.5.0",
            "value": " 3/26 [00:12&lt;01:23,  3.61s/it]",
            "_view_count": null,
            "_view_module_version": "1.5.0",
            "description_tooltip": null,
            "_model_module": "@jupyter-widgets/controls",
            "layout": "IPY_MODEL_aff3c84e5c484dd0a9cf921b163b783a"
          }
        },
        "f9de1a22c78543d9b304c35ef47e19c1": {
          "model_module": "@jupyter-widgets/controls",
          "model_name": "ProgressStyleModel",
          "state": {
            "_view_name": "StyleView",
            "_model_name": "ProgressStyleModel",
            "description_width": "initial",
            "_view_module": "@jupyter-widgets/base",
            "_model_module_version": "1.5.0",
            "_view_count": null,
            "_view_module_version": "1.2.0",
            "bar_color": null,
            "_model_module": "@jupyter-widgets/controls"
          }
        },
        "e38704271d804394bbf334a02fb44615": {
          "model_module": "@jupyter-widgets/base",
          "model_name": "LayoutModel",
          "state": {
            "_view_name": "LayoutView",
            "grid_template_rows": null,
            "right": null,
            "justify_content": null,
            "_view_module": "@jupyter-widgets/base",
            "overflow": null,
            "_model_module_version": "1.2.0",
            "_view_count": null,
            "flex_flow": null,
            "width": null,
            "min_width": null,
            "border": null,
            "align_items": null,
            "bottom": null,
            "_model_module": "@jupyter-widgets/base",
            "top": null,
            "grid_column": null,
            "overflow_y": null,
            "overflow_x": null,
            "grid_auto_flow": null,
            "grid_area": null,
            "grid_template_columns": null,
            "flex": null,
            "_model_name": "LayoutModel",
            "justify_items": null,
            "grid_row": null,
            "max_height": null,
            "align_content": null,
            "visibility": null,
            "align_self": null,
            "height": null,
            "min_height": null,
            "padding": null,
            "grid_auto_rows": null,
            "grid_gap": null,
            "max_width": null,
            "order": null,
            "_view_module_version": "1.2.0",
            "grid_template_areas": null,
            "object_position": null,
            "object_fit": null,
            "grid_auto_columns": null,
            "margin": null,
            "display": null,
            "left": null
          }
        },
        "0c90ecd4648440b8921a07d6b6af04bd": {
          "model_module": "@jupyter-widgets/controls",
          "model_name": "DescriptionStyleModel",
          "state": {
            "_view_name": "StyleView",
            "_model_name": "DescriptionStyleModel",
            "description_width": "",
            "_view_module": "@jupyter-widgets/base",
            "_model_module_version": "1.5.0",
            "_view_count": null,
            "_view_module_version": "1.2.0",
            "_model_module": "@jupyter-widgets/controls"
          }
        },
        "aff3c84e5c484dd0a9cf921b163b783a": {
          "model_module": "@jupyter-widgets/base",
          "model_name": "LayoutModel",
          "state": {
            "_view_name": "LayoutView",
            "grid_template_rows": null,
            "right": null,
            "justify_content": null,
            "_view_module": "@jupyter-widgets/base",
            "overflow": null,
            "_model_module_version": "1.2.0",
            "_view_count": null,
            "flex_flow": null,
            "width": null,
            "min_width": null,
            "border": null,
            "align_items": null,
            "bottom": null,
            "_model_module": "@jupyter-widgets/base",
            "top": null,
            "grid_column": null,
            "overflow_y": null,
            "overflow_x": null,
            "grid_auto_flow": null,
            "grid_area": null,
            "grid_template_columns": null,
            "flex": null,
            "_model_name": "LayoutModel",
            "justify_items": null,
            "grid_row": null,
            "max_height": null,
            "align_content": null,
            "visibility": null,
            "align_self": null,
            "height": null,
            "min_height": null,
            "padding": null,
            "grid_auto_rows": null,
            "grid_gap": null,
            "max_width": null,
            "order": null,
            "_view_module_version": "1.2.0",
            "grid_template_areas": null,
            "object_position": null,
            "object_fit": null,
            "grid_auto_columns": null,
            "margin": null,
            "display": null,
            "left": null
          }
        }
      }
    }
  },
  "cells": [
    {
      "cell_type": "markdown",
      "metadata": {
        "id": "view-in-github",
        "colab_type": "text"
      },
      "source": [
        "<a href=\"https://colab.research.google.com/github/colinrsmall/ehm_roster_tools/blob/master/EP_Career_History_Scraper.ipynb\" target=\"_parent\"><img src=\"https://colab.research.google.com/assets/colab-badge.svg\" alt=\"Open In Colab\"/></a>"
      ]
    },
    {
      "cell_type": "markdown",
      "metadata": {
        "id": "S_MhoPkzgQS0"
      },
      "source": [
        "# Instructions:\n",
        "\n",
        "To add leagues to the list, copy and paste an entry in the following list and replace the league's name and EliteProspects link with the name and link of the league you want to scrape. Make sure that all entries except the last end with a comma (as you can see with the first entry). The name you choose for the entry only influences the name of the output file. You can get a league's URL by going to the league's homepage on EP and copying the URL for that page from your browser.\n",
        "\n",
        "To change which season you're scraping for, change the season string following the list of leagues. The string should be of the format 'YYYY-YYYY' (such as '2019-2020' or '2017-2018'). This will the season for which the scraper gets players. For example, setting this to 2020-21 will scrape all players that are contracted in the given league for that year.\n",
        "\n",
        "Change latest_season to the season you want stop scraping after. For example, if you want to get a player's history up to and including the 2007-08 season, set this to 2007-08.\n",
        "\n",
        "If you want the scraper to print out links for players who are missing information on their EP page, change show_error_links to True.\n",
        "\n",
        "To run the scraper, click runtime -> run all."
      ]
    },
    {
      "cell_type": "code",
      "metadata": {
        "id": "TNm0mvf7fk2I"
      },
      "source": [
        "leagues = \"https://www.eliteprospects.com/team/29511/cranbrook-bucks\" #@param {type:\"string\"}\n",
        "leagues = leagues.split(',')\n",
        "\n",
        "season = \"2020-21\" #@param {type:\"string\"}\n",
        "latest_season = \"2021-22\" #@param {type:\"string\"}\n",
        "show_error_links = True #@param {type:\"boolean\"}\n",
        "use_google_drive = False #@param {type:\"boolean\"}"
      ],
      "execution_count": 23,
      "outputs": []
    },
    {
      "cell_type": "code",
      "metadata": {
        "id": "wVy_SEtBCI7j"
      },
      "source": [
        "if use_google_drive:\n",
        "  from google.colab import drive\n",
        "  drive.mount('/content/drive')\n",
        "  drive_mounted = True"
      ],
      "execution_count": 24,
      "outputs": []
    },
    {
      "cell_type": "markdown",
      "metadata": {
        "id": "Vy7JIACigLs-"
      },
      "source": [
        "# Expand this if you want to look at the code (optional)"
      ]
    },
    {
      "cell_type": "code",
      "metadata": {
        "id": "jiJNPVH7hiXQ",
        "colab": {
          "base_uri": "https://localhost:8080/"
        },
        "outputId": "222ba9cc-3037-4954-e9b2-f967f31e9794"
      },
      "source": [
        "!mkdir '/content/leagues/'"
      ],
      "execution_count": 25,
      "outputs": [
        {
          "output_type": "stream",
          "text": [
            "mkdir: cannot create directory ‘/content/leagues/’: File exists\n"
          ],
          "name": "stdout"
        }
      ]
    },
    {
      "cell_type": "code",
      "metadata": {
        "id": "x9_CSQLbjXrR",
        "colab": {
          "base_uri": "https://localhost:8080/"
        },
        "outputId": "4d273525-3b35-4688-a649-5a9ef62edfdd"
      },
      "source": [
        "!pip install unidecode"
      ],
      "execution_count": 26,
      "outputs": [
        {
          "output_type": "stream",
          "text": [
            "Requirement already satisfied: unidecode in /usr/local/lib/python3.7/dist-packages (1.2.0)\n"
          ],
          "name": "stdout"
        }
      ]
    },
    {
      "cell_type": "code",
      "metadata": {
        "id": "nA6_8mgBLj2H"
      },
      "source": [
        "import requests, random, csv, traceback, time, urllib.request\n",
        "from bs4 import BeautifulSoup\n",
        "from tqdm.notebook import tqdm\n",
        "from datetime import datetime\n",
        "from google.colab import files\n",
        "import unidecode"
      ],
      "execution_count": 27,
      "outputs": []
    },
    {
      "cell_type": "code",
      "metadata": {
        "id": "LG9qclV3wWHz"
      },
      "source": [
        "def get_name(player_page):\n",
        "  name = name = player_page.find('div', class_='ep-entity-header__name').text.strip().split(' ')\n",
        "  first_name = name[0]\n",
        "  last_name = ' '.join(name[1:]).split('\\n')[0].strip()\n",
        "  first_name = unidecode.unidecode(first_name)\n",
        "  last_name = unidecode.unidecode(last_name)\n",
        "  return first_name, last_name\n",
        "\n",
        "\n",
        "def get_dob(player_page):\n",
        "  dob_search_text = \"\"\"\n",
        "                                    Date of Birth\n",
        "                                \"\"\"\n",
        "  try:\n",
        "    dob_text = player_page.find('div', text=dob_search_text).next_element.next_element.next_element.text.strip()\n",
        "    dob = datetime.strptime(dob_text, '%b %d, %Y').strftime('%-d.%-m.%Y')\n",
        "  except Exception as e:\n",
        "    try:\n",
        "      dob = datetime.strptime(dob_text, '%Y').strftime('1.1.%Y')\n",
        "    except Exception as e:\n",
        "      dob = \"\"\n",
        "      print(f'Missing dob information: {get_name(player_page)[0]} {get_name(player_page)[1]}')\n",
        "  return dob\n",
        "\n",
        "def scrape_history(player_page):\n",
        "  season_text = \"\"\n",
        "  seasons = []\n",
        "  for season in player_page.select(\".player-statistics.regular.postseason\")[0].select('tr[class*=\"team-continent-\"]'):\n",
        "      p_gp = \"0\"\n",
        "      p_g = \"0\"\n",
        "      p_a = \"0\"\n",
        "      p_pim = \"0\"\n",
        "      p_pm = \"0\"\n",
        "\n",
        "      if season.select(\".season.sorted\")[0].text.strip() != \"\":\n",
        "        season_text = season.select(\".season.sorted\")[0].text.strip()\n",
        "      \n",
        "      if season_text == latest_season:\n",
        "        break\n",
        "\n",
        "      if len(season.select(\"fa.fa-loan\")) > 0:\n",
        "        loan = \"y\"\n",
        "      else:\n",
        "        loan = \"n\"\n",
        "\n",
        "      club = season.select(\".team\")[0].text.strip()\n",
        "      if '“A”' in club or '“C”' in club:\n",
        "        club = club[:-5]\n",
        "      club = unidecode.unidecode(club)\n",
        "\n",
        "      competition = season.select(\".league\")[0].text.strip()\n",
        "      r_gp = season.select(\".regular.gp\")[0].text.strip().replace(\"-\", \"0\")\n",
        "      r_g = season.select(\".regular.g\")[0].text.strip().replace(\"-\", \"0\")\n",
        "      r_a = season.select(\".regular.a\")[0].text.strip().replace(\"-\", \"0\")\n",
        "      r_pim = season.select(\".regular.pim\")[0].text.strip().replace(\"-\", \"0\")\n",
        "      r_pm = season.select(\".regular.pm\")[0].text.strip().replace(\"-\", \"0\")\n",
        "\n",
        "      playoffs = None\n",
        "      if season.select(\".postseason.gp\")[0].text.strip() != \"-\" and season.select(\".postseason\")[0].text.strip() == \"Playoffs\":\n",
        "        p_gp = season.select(\".postseason.gp\")[0].text.strip().replace(\"-\", \"0\")\n",
        "        p_g = season.select(\".postseason.g\")[0].text.strip().replace(\"-\", \"0\")\n",
        "        p_a = season.select(\".postseason.a\")[0].text.strip().replace(\"-\", \"0\")\n",
        "        p_pim = season.select(\".postseason.pim\")[0].text.strip().replace(\"-\", \"0\")\n",
        "        p_pm = season.select(\".postseason.pm\")[0].text.strip().replace(\"-\", \"0\")\n",
        "        playoffs = [loan, \"y\", season_text, club, competition, p_gp, p_g, p_a, p_pim, p_pm, 0, 0, 0, 0, 0, 0, 0]\n",
        "\n",
        "      regular_season = [loan, \"n\", season_text, club, competition, r_gp, r_g, r_a, r_pim, r_pm, 0, 0, 0, 0, 0, 0, 0]\n",
        "      seasons.append((regular_season, playoffs))\n",
        "\n",
        "  return seasons\n",
        "\n",
        "def scrape_player_page(link, csvwr):\n",
        "  player_page = requests.get(link, headers = {\n",
        "        'user-agent': 'Mozilla/5.0 (Macintosh; Intel Mac OS X 10_11_6) AppleWebKit/537.36 (KHTML, like Gecko) Chrome/56.0.2924.87 Safari/537.36',\n",
        "        'referrer': 'https://google.com',\n",
        "        'Accept': 'text/html,application/xhtml+xml,application/xml;q=0.9,image/webp,image/apng,*/*;q=0.8',\n",
        "        'Accept-Encoding': 'gzip, deflate, br',\n",
        "        'Accept-Language': 'en-US,en;q=0.9',\n",
        "        'Pragma': 'no-cache',\n",
        "    })\n",
        "  \n",
        "  player_page = BeautifulSoup(player_page.content)\n",
        "  first_name, last_name = get_name(player_page)\n",
        "  dob = get_dob(player_page)\n",
        "  position_text = \"\"\"\n",
        "                                        Position\n",
        "                                    \"\"\"\n",
        "  position = player_page.find('div', text=position_text).next_element.next_element.next_element.text.strip()\n",
        "\n",
        "  if position != \"G\":\n",
        "    seasons = scrape_history(player_page)\n",
        "    \n",
        "    for (regular_season, playoffs) in seasons:\n",
        "      csvwr.writerow([first_name, last_name, dob] + regular_season)\n",
        "      if playoffs is not None:\n",
        "        csvwr.writerow([first_name, last_name, dob] + playoffs)"
      ],
      "execution_count": 28,
      "outputs": []
    },
    {
      "cell_type": "code",
      "metadata": {
        "id": "3LxWGSNAfNcq"
      },
      "source": [
        "def scrape():\n",
        "  season_suffix = season[:5] + '20' + season[5:]\n",
        "  for league in tqdm(leagues, desc='Leagues'):\n",
        "    draft = \"draft\" in league\n",
        "    team = \"team\" in league\n",
        "\n",
        "    home_page_link = league if draft or team else league+'/'+season_suffix\n",
        "    home_page_page = requests.get(home_page_link)\n",
        "    print(home_page_link)\n",
        "    home_page = BeautifulSoup(home_page_page.content)\n",
        "\n",
        "    page_name = home_page.select(\".semi-logo\")[0].text.strip() if team else home_page.select(\".plytitle\")[0].text.strip()\n",
        "    ' '.join(page_name.replace('\\n', '').split()).strip()\n",
        "\n",
        "    with open(f'/content/leagues/{page_name}.csv', 'w+', newline='', encoding='UTF-8') as csvfile:\n",
        "      csvfile.write('\\ufeff')\n",
        "      csvwriter = csv.writer(csvfile, delimiter=',')\n",
        "      top_header = 'staff_history, dmy'\n",
        "      second_header = 'First name, Second name, Date of Birth, On loan, Playoffs, Year, Club, Competition, GP, G, A, PIM, +/-, Mins, GA, SO, W, L, T/OT, Saves, Edit Club, Edit Competition'\n",
        "      csvwriter.writerow(top_header.split(','))\n",
        "      csvwriter.writerow(second_header.split(','))\n",
        "\n",
        "      if draft:\n",
        "        player_links = set([player['href'] for player in home_page.select('[data-sort-ajax-container=\"#drafted-players\"] .player a')])\n",
        "      elif team:\n",
        "        player_links = []\n",
        "        player_numbers = {}\n",
        "\n",
        "        for player in home_page.select('[data-sort-ajax-container=\"#roster\"] > tbody > tr'):\n",
        "          try:\n",
        "            player_link = player.select('.txt-blue a[href]')[0]\n",
        "            player_links.append(player_link['href'])\n",
        "            player_name = player.select('.txt-blue')[0].text.split('(')[0].strip()\n",
        "            player_number = player.select('.jersey')[0].text.split(\"#\")[1].strip()\n",
        "            player_numbers[player_name] = player_number\n",
        "          except IndexError as e:\n",
        "            continue\n",
        "          \n",
        "      else:\n",
        "        player_links = []\n",
        "        player_numbers = {}\n",
        "        # team_links = set([team['href'] for team in home_page.select('table.standings.table-sortable > tbody > tr > .team > a')])\n",
        "        # if not team_links:\n",
        "        team_links = set([(team['href']+'/'+season_suffix) for team in home_page.select('.inner-rtl .leg-home-inner .list-as-columns > .column-4 > li > a')])\n",
        "        for team_link in team_links:\n",
        "          team_page = requests.get(team_link)\n",
        "          team_page = BeautifulSoup(team_page.content)\n",
        "          for player in team_page.select('[data-sort-ajax-container=\"#roster\"] > tbody > tr'):\n",
        "            try:\n",
        "              player_link = player.select('.txt-blue a[href]')[0]\n",
        "              player_links.append(player_link['href'])\n",
        "              player_name = player.select('.txt-blue')[0].text.split('(')[0].strip()\n",
        "              player_number = player.select('.jersey')[0].text.split(\"#\")[1].strip()\n",
        "              player_numbers[player_name] = player_number\n",
        "            except IndexError as e:\n",
        "              continue\n",
        "\n",
        "      for link in tqdm(player_links, desc='Players', leave=False):\n",
        "        try:\n",
        "          scrape_player_page(link, csvwriter)  \n",
        "        except Exception as e:\n",
        "          if \"team-captaincy\" not in link and \"nation?total\" not in link and 'apple-touch-icon' not in link and 'player_page.find' not in link and show_error_links:\n",
        "            traceback.print_exc()\n",
        "            print(f'Missing player information for: {link}')\n",
        "\n",
        "        time.sleep(random.random() * 3)"
      ],
      "execution_count": 29,
      "outputs": []
    },
    {
      "cell_type": "markdown",
      "metadata": {
        "id": "_H37N4evh1Qc"
      },
      "source": [
        "# Output\n",
        "\n",
        "You should see three progress bars: one showing the progress through the leagues you want to scrape, one showing progress through all of the teams for a given league, and one showing progress through all of the players for a given team.\n",
        "\n",
        "Some players (often in low-level or obscure leagues) will be missing information such as shooting hand, height, weight, or full date of birth. If you set show_error_links to be True in the first cell, and if the scraper comes across such a player, it will print out a small error message stating \"Missing player information for: \" followed by a link to the player's EP page. The scraper will still include the player in the output CSV files, although some fields for that player will be empty.\n",
        "\n",
        "To download the .zip, can click the folder icon on the bar to the left of the screen and right-click -> download file the file 'leagues.zip'."
      ]
    },
    {
      "cell_type": "code",
      "metadata": {
        "id": "girLjYxJh2cn",
        "colab": {
          "base_uri": "https://localhost:8080/",
          "height": 411,
          "referenced_widgets": [
            "82cbdfac7a46431385847991f0ba9829",
            "bd32a699032346eab7c5b2d7d3b9acde",
            "0bb02b5e35d2416eb8d4f7bf5faac82a",
            "5d977169dfec48fca8fa67eed2144015",
            "76e41bc37aaa43298c101785c92cdbdb",
            "6b4aee73c2ba469d9c8f01aa6b879858",
            "6b0baf60e6ee462ea15301ae64877b08",
            "51a7da41730d44d9a462ebfe8b36823c",
            "14c1da7221754810b72954b7d2c67dec",
            "59a07c874da548ccb47b706ef147451a",
            "d698a7b63400457f8d5908596f3e9022",
            "24588d878e0f4c2f9423f043791f3405",
            "f9de1a22c78543d9b304c35ef47e19c1",
            "e38704271d804394bbf334a02fb44615",
            "0c90ecd4648440b8921a07d6b6af04bd",
            "aff3c84e5c484dd0a9cf921b163b783a"
          ]
        },
        "outputId": "cd9a360b-292d-4243-f562-c0fd700fa45d"
      },
      "source": [
        "scrape()"
      ],
      "execution_count": 30,
      "outputs": [
        {
          "output_type": "display_data",
          "data": {
            "application/vnd.jupyter.widget-view+json": {
              "model_id": "82cbdfac7a46431385847991f0ba9829",
              "version_minor": 0,
              "version_major": 2
            },
            "text/plain": [
              "HBox(children=(FloatProgress(value=0.0, description='Leagues', max=1.0, style=ProgressStyle(description_width=…"
            ]
          },
          "metadata": {
            "tags": []
          }
        },
        {
          "output_type": "stream",
          "text": [
            "https://www.eliteprospects.com/team/29511/cranbrook-bucks\n"
          ],
          "name": "stdout"
        },
        {
          "output_type": "display_data",
          "data": {
            "application/vnd.jupyter.widget-view+json": {
              "model_id": "14c1da7221754810b72954b7d2c67dec",
              "version_minor": 0,
              "version_major": 2
            },
            "text/plain": [
              "HBox(children=(FloatProgress(value=0.0, description='Players', max=26.0, style=ProgressStyle(description_width…"
            ]
          },
          "metadata": {
            "tags": []
          }
        },
        {
          "output_type": "stream",
          "text": [
            "Missing dob information: Nathan Airey\n",
            "Missing dob information: Jay Thomson\n",
            "Missing dob information: Quaid Anderson\n",
            "Missing dob information: Cole Assailly\n"
          ],
          "name": "stdout"
        },
        {
          "output_type": "error",
          "ename": "KeyboardInterrupt",
          "evalue": "ignored",
          "traceback": [
            "\u001b[0;31m---------------------------------------------------------------------------\u001b[0m",
            "\u001b[0;31mKeyboardInterrupt\u001b[0m                         Traceback (most recent call last)",
            "\u001b[0;32m<ipython-input-30-20ef00fd5394>\u001b[0m in \u001b[0;36m<module>\u001b[0;34m()\u001b[0m\n\u001b[0;32m----> 1\u001b[0;31m \u001b[0mscrape\u001b[0m\u001b[0;34m(\u001b[0m\u001b[0;34m)\u001b[0m\u001b[0;34m\u001b[0m\u001b[0;34m\u001b[0m\u001b[0m\n\u001b[0m",
            "\u001b[0;32m<ipython-input-29-a0ae5da69e45>\u001b[0m in \u001b[0;36mscrape\u001b[0;34m()\u001b[0m\n\u001b[1;32m     64\u001b[0m             \u001b[0mprint\u001b[0m\u001b[0;34m(\u001b[0m\u001b[0;34mf'Missing player information for: {link}'\u001b[0m\u001b[0;34m)\u001b[0m\u001b[0;34m\u001b[0m\u001b[0;34m\u001b[0m\u001b[0m\n\u001b[1;32m     65\u001b[0m \u001b[0;34m\u001b[0m\u001b[0m\n\u001b[0;32m---> 66\u001b[0;31m         \u001b[0mtime\u001b[0m\u001b[0;34m.\u001b[0m\u001b[0msleep\u001b[0m\u001b[0;34m(\u001b[0m\u001b[0mrandom\u001b[0m\u001b[0;34m.\u001b[0m\u001b[0mrandom\u001b[0m\u001b[0;34m(\u001b[0m\u001b[0;34m)\u001b[0m \u001b[0;34m*\u001b[0m \u001b[0;36m3\u001b[0m\u001b[0;34m)\u001b[0m\u001b[0;34m\u001b[0m\u001b[0;34m\u001b[0m\u001b[0m\n\u001b[0m",
            "\u001b[0;31mKeyboardInterrupt\u001b[0m: "
          ]
        }
      ]
    },
    {
      "cell_type": "code",
      "metadata": {
        "id": "Dt5CkyAnnAse"
      },
      "source": [
        "time.sleep(5)\n",
        "!zip leagues.zip -r '/content/leagues/'\n",
        "\n",
        "if use_google_drive:\n",
        "  !mv leagues.zip /content/drive/MyDrive/leagues.zip"
      ],
      "execution_count": null,
      "outputs": []
    },
    {
      "cell_type": "markdown",
      "metadata": {
        "id": "inamXWxnt1CE"
      },
      "source": [
        "# Testing code, no need to look here"
      ]
    },
    {
      "cell_type": "code",
      "metadata": {
        "id": "ytrwo4LJP1Rb"
      },
      "source": [
        "def scrape():\n",
        "  season_suffix = season_to_scrape[:5] + '20' + season_to_scrape[5:]\n",
        "  for league in tqdm(leagues, desc='Leagues'):\n",
        "    # Get draft page's HTML and parse with BeautifulSoup\n",
        "    home_page_link = league[1]+'/'+season_suffix\n",
        "    home_page_page = requests.get(home_page_link)\n",
        "    home_page = BeautifulSoup(home_page_page.content)\n",
        "\n",
        "    with open(f'/content/leagues/{league[0]}.csv', 'w+', newline='', encoding='UTF-8') as csvfile:\n",
        "      csvfile.write('\\ufeff')\n",
        "      csvwriter = csv.writer(csvfile, delimiter=',')\n",
        "      top_header = 'staff_history, dmy'\n",
        "      second_header = 'First name, Second name, Date of Birth, On loan, Playoffs, Year, Club, Competition, GP, G, A, PIM, +/-, Mins, GA, SO, W, L, T/OT, Saves, Edit Club, Edit Competition'\n",
        "      csvwriter.writerow(top_header.split(','))\n",
        "      csvwriter.writerow(second_header.split(','))\n",
        "\n",
        "      player_links = []\n",
        "      team_links = set([team['href'] for team in home_page.select('table.standings.table-sortable > tbody > tr > .team > a')])\n",
        "      if not team_links:\n",
        "        team_links = set([(team['href']+'/'+season_suffix) for team in home_page.select('.inner-rtl .leg-home-inner .list-as-columns > .column-4 > li > a')])\n",
        "      for team_link in team_links:\n",
        "        team_page = requests.get(team_link)\n",
        "        team_page = BeautifulSoup(team_page.content)\n",
        "        players = team_page.select('[data-sort-ajax-container=\"#roster\"] > tbody > tr .txt-blue a[href]')\n",
        "        player_links += [player['href'] for player in players]\n",
        "\n",
        "      for link in tqdm(player_links, desc='Players', leave=False):\n",
        "        try:\n",
        "          scrape_player_page(link, csvwriter)  \n",
        "        except Exception as e:\n",
        "          if \"team-captaincy\" not in link and \"nation?total\" not in link and 'apple-touch-icon' not in link and 'player_page.find' not in link and show_error_links:\n",
        "            traceback.print_exc()\n",
        "            print(f'Missing player information for: {link}')\n",
        "\n",
        "        time.sleep(random.random() * 3)"
      ],
      "execution_count": null,
      "outputs": []
    },
    {
      "cell_type": "code",
      "metadata": {
        "id": "0Rsi0uIysYPd"
      },
      "source": [
        "player_page_link = 'https://www.eliteprospects.com/player/42871/carl-hudson'\n",
        "player_page = requests.get(player_page_link, headers = {\n",
        "      'user-agent': 'Mozilla/5.0 (Macintosh; Intel Mac OS X 10_11_6) AppleWebKit/537.36 (KHTML, like Gecko) Chrome/56.0.2924.87 Safari/537.36',\n",
        "      'referrer': 'https://google.com',\n",
        "      'Accept': 'text/html,application/xhtml+xml,application/xml;q=0.9,image/webp,image/apng,*/*;q=0.8',\n",
        "      'Accept-Encoding': 'gzip, deflate, br',\n",
        "      'Accept-Language': 'en-US,en;q=0.9',\n",
        "      'Pragma': 'no-cache',\n",
        "  })\n",
        "player_page = BeautifulSoup(player_page.content)"
      ],
      "execution_count": null,
      "outputs": []
    },
    {
      "cell_type": "code",
      "metadata": {
        "id": "dtz2fEf5hPer"
      },
      "source": [
        "player_page.select(\".team-continent-NA\")"
      ],
      "execution_count": null,
      "outputs": []
    },
    {
      "cell_type": "code",
      "metadata": {
        "id": "atzNZoT5kMgN"
      },
      "source": [
        "season_text = \"\"\n",
        "for season in player_page.select(\".player-statistics.regular.postseason\")[0].select(\".team-continent-EU\"):\n",
        "    p_gp = \"0\"\n",
        "    p_g = \"0\"\n",
        "    p_a = \"0\"\n",
        "    p_pim = \"0\"\n",
        "    p_pm = \"0\"\n",
        "\n",
        "    if season.select(\".season.sorted\")[0].text.strip() != \"\":\n",
        "      season_text = season.select(\".season.sorted\")[0].text.strip()\n",
        "    \n",
        "    if season_text == latest_season:\n",
        "      break\n",
        "\n",
        "    if len(season.select(\"fa.fa-loan\")) > 0:\n",
        "      loan = \"y\"\n",
        "    else:\n",
        "      loan = \"n\"\n",
        "\n",
        "    club = season.select(\".team\")[0].text.strip()\n",
        "    if '“A”' in club or '“C”' in club:\n",
        "      club = club[:-5]\n",
        "\n",
        "    competition = season.select(\".league\")[0].text.strip()\n",
        "    r_gp = season.select(\".regular.gp\")[0].text.strip()\n",
        "    r_g = season.select(\".regular.g\")[0].text.strip()\n",
        "    r_a = season.select(\".regular.a\")[0].text.strip()\n",
        "    r_pim = season.select(\".regular.pim\")[0].text.strip()\n",
        "    r_pm = season.select(\".regular.pm\")[0].text.strip()\n",
        "\n",
        "    playoffs = None\n",
        "    if season.select(\".postseason.gp\")[0].text.strip() != \"\" or season.select(\".postseason.gp\")[0].text.strip() != \"-\":\n",
        "      p_gp = season.select(\".postseason.gp\")[0].text.strip()\n",
        "      p_g = season.select(\".postseason.g\")[0].text.strip()\n",
        "      p_a = season.select(\".postseason.a\")[0].text.strip()\n",
        "      p_pim = season.select(\".postseason.pim\")[0].text.strip()\n",
        "      p_pm = season.select(\".postseason.pm\")[0].text.strip()\n",
        "      playoffs = [loan, \"y\", season_text, club, competition, p_gp, r_g, p_a, p_pim, p_pm, 0, 0, 0, 0, 0, 0, 0]\n",
        "\n",
        "    regular_season = [loan, \"n\", season_text, club, competition, r_gp, r_g, r_a, r_pim, r_pm, 0, 0, 0, 0, 0, 0, 0]"
      ],
      "execution_count": null,
      "outputs": []
    },
    {
      "cell_type": "code",
      "metadata": {
        "id": "THsBk28ogRtp"
      },
      "source": [
        "player_page.select(\".player-statistics.regular.postseason\")[0].select('tr[class*=\"team-continent-\"]')"
      ],
      "execution_count": null,
      "outputs": []
    },
    {
      "cell_type": "code",
      "metadata": {
        "id": "h8BJn9c4UkSq"
      },
      "source": [
        ""
      ],
      "execution_count": null,
      "outputs": []
    }
  ]
}