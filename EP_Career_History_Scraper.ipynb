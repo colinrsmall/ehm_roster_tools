{
  "nbformat": 4,
  "nbformat_minor": 0,
  "metadata": {
    "colab": {
      "name": "EP Career History Scraper",
      "provenance": [],
      "collapsed_sections": [
        "inamXWxnt1CE"
      ],
      "authorship_tag": "ABX9TyOsL8tibJOFrQRahdVitxm/",
      "include_colab_link": true
    },
    "kernelspec": {
      "name": "python3",
      "display_name": "Python 3"
    },
    "widgets": {
      "application/vnd.jupyter.widget-state+json": {
        "cb2f224e4b3c4027b8d3ca799540c7d1": {
          "model_module": "@jupyter-widgets/controls",
          "model_name": "HBoxModel",
          "model_module_version": "1.5.0",
          "state": {
            "_view_name": "HBoxView",
            "_dom_classes": [],
            "_model_name": "HBoxModel",
            "_view_module": "@jupyter-widgets/controls",
            "_model_module_version": "1.5.0",
            "_view_count": null,
            "_view_module_version": "1.5.0",
            "box_style": "",
            "layout": "IPY_MODEL_12b32a037546402c802a9dfc49613058",
            "_model_module": "@jupyter-widgets/controls",
            "children": [
              "IPY_MODEL_24beb4efffd047e1bbce426c62ecb112",
              "IPY_MODEL_f1c2c1e8b9194b968cde2fe4648e67d0",
              "IPY_MODEL_16c618df1ff344eba77f2dc969914178"
            ]
          }
        },
        "12b32a037546402c802a9dfc49613058": {
          "model_module": "@jupyter-widgets/base",
          "model_name": "LayoutModel",
          "model_module_version": "1.2.0",
          "state": {
            "_view_name": "LayoutView",
            "grid_template_rows": null,
            "right": null,
            "justify_content": null,
            "_view_module": "@jupyter-widgets/base",
            "overflow": null,
            "_model_module_version": "1.2.0",
            "_view_count": null,
            "flex_flow": null,
            "width": null,
            "min_width": null,
            "border": null,
            "align_items": null,
            "bottom": null,
            "_model_module": "@jupyter-widgets/base",
            "top": null,
            "grid_column": null,
            "overflow_y": null,
            "overflow_x": null,
            "grid_auto_flow": null,
            "grid_area": null,
            "grid_template_columns": null,
            "flex": null,
            "_model_name": "LayoutModel",
            "justify_items": null,
            "grid_row": null,
            "max_height": null,
            "align_content": null,
            "visibility": null,
            "align_self": null,
            "height": null,
            "min_height": null,
            "padding": null,
            "grid_auto_rows": null,
            "grid_gap": null,
            "max_width": null,
            "order": null,
            "_view_module_version": "1.2.0",
            "grid_template_areas": null,
            "object_position": null,
            "object_fit": null,
            "grid_auto_columns": null,
            "margin": null,
            "display": null,
            "left": null
          }
        },
        "24beb4efffd047e1bbce426c62ecb112": {
          "model_module": "@jupyter-widgets/controls",
          "model_name": "HTMLModel",
          "model_module_version": "1.5.0",
          "state": {
            "_view_name": "HTMLView",
            "style": "IPY_MODEL_8100f823189c4dbea4d84f02e63ba10f",
            "_dom_classes": [],
            "description": "",
            "_model_name": "HTMLModel",
            "placeholder": "​",
            "_view_module": "@jupyter-widgets/controls",
            "_model_module_version": "1.5.0",
            "value": "Leagues: 100%",
            "_view_count": null,
            "_view_module_version": "1.5.0",
            "description_tooltip": null,
            "_model_module": "@jupyter-widgets/controls",
            "layout": "IPY_MODEL_b8ed763daccf4732bc54b21f8d3984de"
          }
        },
        "f1c2c1e8b9194b968cde2fe4648e67d0": {
          "model_module": "@jupyter-widgets/controls",
          "model_name": "FloatProgressModel",
          "model_module_version": "1.5.0",
          "state": {
            "_view_name": "ProgressView",
            "style": "IPY_MODEL_2b2e49b79b2244ee85a1439da2defeeb",
            "_dom_classes": [],
            "description": "",
            "_model_name": "FloatProgressModel",
            "bar_style": "success",
            "max": 1,
            "_view_module": "@jupyter-widgets/controls",
            "_model_module_version": "1.5.0",
            "value": 1,
            "_view_count": null,
            "_view_module_version": "1.5.0",
            "orientation": "horizontal",
            "min": 0,
            "description_tooltip": null,
            "_model_module": "@jupyter-widgets/controls",
            "layout": "IPY_MODEL_3cae87188e324e69b29ee2559c39da67"
          }
        },
        "16c618df1ff344eba77f2dc969914178": {
          "model_module": "@jupyter-widgets/controls",
          "model_name": "HTMLModel",
          "model_module_version": "1.5.0",
          "state": {
            "_view_name": "HTMLView",
            "style": "IPY_MODEL_95ad05042f5147ca9f9fc876b295ed87",
            "_dom_classes": [],
            "description": "",
            "_model_name": "HTMLModel",
            "placeholder": "​",
            "_view_module": "@jupyter-widgets/controls",
            "_model_module_version": "1.5.0",
            "value": " 1/1 [03:03&lt;00:00, 183.88s/it]",
            "_view_count": null,
            "_view_module_version": "1.5.0",
            "description_tooltip": null,
            "_model_module": "@jupyter-widgets/controls",
            "layout": "IPY_MODEL_a4657b9f64814deba7aa40dcea8c4645"
          }
        },
        "8100f823189c4dbea4d84f02e63ba10f": {
          "model_module": "@jupyter-widgets/controls",
          "model_name": "DescriptionStyleModel",
          "model_module_version": "1.5.0",
          "state": {
            "_view_name": "StyleView",
            "_model_name": "DescriptionStyleModel",
            "description_width": "",
            "_view_module": "@jupyter-widgets/base",
            "_model_module_version": "1.5.0",
            "_view_count": null,
            "_view_module_version": "1.2.0",
            "_model_module": "@jupyter-widgets/controls"
          }
        },
        "b8ed763daccf4732bc54b21f8d3984de": {
          "model_module": "@jupyter-widgets/base",
          "model_name": "LayoutModel",
          "model_module_version": "1.2.0",
          "state": {
            "_view_name": "LayoutView",
            "grid_template_rows": null,
            "right": null,
            "justify_content": null,
            "_view_module": "@jupyter-widgets/base",
            "overflow": null,
            "_model_module_version": "1.2.0",
            "_view_count": null,
            "flex_flow": null,
            "width": null,
            "min_width": null,
            "border": null,
            "align_items": null,
            "bottom": null,
            "_model_module": "@jupyter-widgets/base",
            "top": null,
            "grid_column": null,
            "overflow_y": null,
            "overflow_x": null,
            "grid_auto_flow": null,
            "grid_area": null,
            "grid_template_columns": null,
            "flex": null,
            "_model_name": "LayoutModel",
            "justify_items": null,
            "grid_row": null,
            "max_height": null,
            "align_content": null,
            "visibility": null,
            "align_self": null,
            "height": null,
            "min_height": null,
            "padding": null,
            "grid_auto_rows": null,
            "grid_gap": null,
            "max_width": null,
            "order": null,
            "_view_module_version": "1.2.0",
            "grid_template_areas": null,
            "object_position": null,
            "object_fit": null,
            "grid_auto_columns": null,
            "margin": null,
            "display": null,
            "left": null
          }
        },
        "2b2e49b79b2244ee85a1439da2defeeb": {
          "model_module": "@jupyter-widgets/controls",
          "model_name": "ProgressStyleModel",
          "model_module_version": "1.5.0",
          "state": {
            "_view_name": "StyleView",
            "_model_name": "ProgressStyleModel",
            "description_width": "",
            "_view_module": "@jupyter-widgets/base",
            "_model_module_version": "1.5.0",
            "_view_count": null,
            "_view_module_version": "1.2.0",
            "bar_color": null,
            "_model_module": "@jupyter-widgets/controls"
          }
        },
        "3cae87188e324e69b29ee2559c39da67": {
          "model_module": "@jupyter-widgets/base",
          "model_name": "LayoutModel",
          "model_module_version": "1.2.0",
          "state": {
            "_view_name": "LayoutView",
            "grid_template_rows": null,
            "right": null,
            "justify_content": null,
            "_view_module": "@jupyter-widgets/base",
            "overflow": null,
            "_model_module_version": "1.2.0",
            "_view_count": null,
            "flex_flow": null,
            "width": null,
            "min_width": null,
            "border": null,
            "align_items": null,
            "bottom": null,
            "_model_module": "@jupyter-widgets/base",
            "top": null,
            "grid_column": null,
            "overflow_y": null,
            "overflow_x": null,
            "grid_auto_flow": null,
            "grid_area": null,
            "grid_template_columns": null,
            "flex": null,
            "_model_name": "LayoutModel",
            "justify_items": null,
            "grid_row": null,
            "max_height": null,
            "align_content": null,
            "visibility": null,
            "align_self": null,
            "height": null,
            "min_height": null,
            "padding": null,
            "grid_auto_rows": null,
            "grid_gap": null,
            "max_width": null,
            "order": null,
            "_view_module_version": "1.2.0",
            "grid_template_areas": null,
            "object_position": null,
            "object_fit": null,
            "grid_auto_columns": null,
            "margin": null,
            "display": null,
            "left": null
          }
        },
        "95ad05042f5147ca9f9fc876b295ed87": {
          "model_module": "@jupyter-widgets/controls",
          "model_name": "DescriptionStyleModel",
          "model_module_version": "1.5.0",
          "state": {
            "_view_name": "StyleView",
            "_model_name": "DescriptionStyleModel",
            "description_width": "",
            "_view_module": "@jupyter-widgets/base",
            "_model_module_version": "1.5.0",
            "_view_count": null,
            "_view_module_version": "1.2.0",
            "_model_module": "@jupyter-widgets/controls"
          }
        },
        "a4657b9f64814deba7aa40dcea8c4645": {
          "model_module": "@jupyter-widgets/base",
          "model_name": "LayoutModel",
          "model_module_version": "1.2.0",
          "state": {
            "_view_name": "LayoutView",
            "grid_template_rows": null,
            "right": null,
            "justify_content": null,
            "_view_module": "@jupyter-widgets/base",
            "overflow": null,
            "_model_module_version": "1.2.0",
            "_view_count": null,
            "flex_flow": null,
            "width": null,
            "min_width": null,
            "border": null,
            "align_items": null,
            "bottom": null,
            "_model_module": "@jupyter-widgets/base",
            "top": null,
            "grid_column": null,
            "overflow_y": null,
            "overflow_x": null,
            "grid_auto_flow": null,
            "grid_area": null,
            "grid_template_columns": null,
            "flex": null,
            "_model_name": "LayoutModel",
            "justify_items": null,
            "grid_row": null,
            "max_height": null,
            "align_content": null,
            "visibility": null,
            "align_self": null,
            "height": null,
            "min_height": null,
            "padding": null,
            "grid_auto_rows": null,
            "grid_gap": null,
            "max_width": null,
            "order": null,
            "_view_module_version": "1.2.0",
            "grid_template_areas": null,
            "object_position": null,
            "object_fit": null,
            "grid_auto_columns": null,
            "margin": null,
            "display": null,
            "left": null
          }
        },
        "913662465fdf48c3b216288a84e5ceee": {
          "model_module": "@jupyter-widgets/controls",
          "model_name": "HBoxModel",
          "model_module_version": "1.5.0",
          "state": {
            "_view_name": "HBoxView",
            "_dom_classes": [],
            "_model_name": "HBoxModel",
            "_view_module": "@jupyter-widgets/controls",
            "_model_module_version": "1.5.0",
            "_view_count": null,
            "_view_module_version": "1.5.0",
            "box_style": "",
            "layout": "IPY_MODEL_7f5a98ed4ab04578abc0fec2460ecd72",
            "_model_module": "@jupyter-widgets/controls",
            "children": [
              "IPY_MODEL_d9c686de0d6449618c75f1b4bae193bc",
              "IPY_MODEL_82be9cff17dd4c3098554410ee457568",
              "IPY_MODEL_0ad78526c98846abafcbaa1929afe9cd"
            ]
          }
        },
        "7f5a98ed4ab04578abc0fec2460ecd72": {
          "model_module": "@jupyter-widgets/base",
          "model_name": "LayoutModel",
          "model_module_version": "1.2.0",
          "state": {
            "_view_name": "LayoutView",
            "grid_template_rows": null,
            "right": null,
            "justify_content": null,
            "_view_module": "@jupyter-widgets/base",
            "overflow": null,
            "_model_module_version": "1.2.0",
            "_view_count": null,
            "flex_flow": null,
            "width": null,
            "min_width": null,
            "border": null,
            "align_items": null,
            "bottom": null,
            "_model_module": "@jupyter-widgets/base",
            "top": null,
            "grid_column": null,
            "overflow_y": null,
            "overflow_x": null,
            "grid_auto_flow": null,
            "grid_area": null,
            "grid_template_columns": null,
            "flex": null,
            "_model_name": "LayoutModel",
            "justify_items": null,
            "grid_row": null,
            "max_height": null,
            "align_content": null,
            "visibility": null,
            "align_self": null,
            "height": null,
            "min_height": null,
            "padding": null,
            "grid_auto_rows": null,
            "grid_gap": null,
            "max_width": null,
            "order": null,
            "_view_module_version": "1.2.0",
            "grid_template_areas": null,
            "object_position": null,
            "object_fit": null,
            "grid_auto_columns": null,
            "margin": null,
            "display": null,
            "left": null
          }
        },
        "d9c686de0d6449618c75f1b4bae193bc": {
          "model_module": "@jupyter-widgets/controls",
          "model_name": "HTMLModel",
          "model_module_version": "1.5.0",
          "state": {
            "_view_name": "HTMLView",
            "style": "IPY_MODEL_238fa42497f9485e83be4ab9fbefbdc2",
            "_dom_classes": [],
            "description": "",
            "_model_name": "HTMLModel",
            "placeholder": "​",
            "_view_module": "@jupyter-widgets/controls",
            "_model_module_version": "1.5.0",
            "value": "Players: 100%",
            "_view_count": null,
            "_view_module_version": "1.5.0",
            "description_tooltip": null,
            "_model_module": "@jupyter-widgets/controls",
            "layout": "IPY_MODEL_88fbf215be9d4970b2fc913e07b0c46d"
          }
        },
        "82be9cff17dd4c3098554410ee457568": {
          "model_module": "@jupyter-widgets/controls",
          "model_name": "FloatProgressModel",
          "model_module_version": "1.5.0",
          "state": {
            "_view_name": "ProgressView",
            "style": "IPY_MODEL_461e1664f750484292cb5a73b2bfa81d",
            "_dom_classes": [],
            "description": "",
            "_model_name": "FloatProgressModel",
            "bar_style": "",
            "max": 39,
            "_view_module": "@jupyter-widgets/controls",
            "_model_module_version": "1.5.0",
            "value": 39,
            "_view_count": null,
            "_view_module_version": "1.5.0",
            "orientation": "horizontal",
            "min": 0,
            "description_tooltip": null,
            "_model_module": "@jupyter-widgets/controls",
            "layout": "IPY_MODEL_3c9f989e8bc942bcbbc4b1b09124c2db"
          }
        },
        "0ad78526c98846abafcbaa1929afe9cd": {
          "model_module": "@jupyter-widgets/controls",
          "model_name": "HTMLModel",
          "model_module_version": "1.5.0",
          "state": {
            "_view_name": "HTMLView",
            "style": "IPY_MODEL_88656896006b41d2ae28ad0dd3a64b5f",
            "_dom_classes": [],
            "description": "",
            "_model_name": "HTMLModel",
            "placeholder": "​",
            "_view_module": "@jupyter-widgets/controls",
            "_model_module_version": "1.5.0",
            "value": " 39/39 [03:00&lt;00:00,  5.21s/it]",
            "_view_count": null,
            "_view_module_version": "1.5.0",
            "description_tooltip": null,
            "_model_module": "@jupyter-widgets/controls",
            "layout": "IPY_MODEL_d6a790ec6e7b4fb19c648392cbd56a5b"
          }
        },
        "238fa42497f9485e83be4ab9fbefbdc2": {
          "model_module": "@jupyter-widgets/controls",
          "model_name": "DescriptionStyleModel",
          "model_module_version": "1.5.0",
          "state": {
            "_view_name": "StyleView",
            "_model_name": "DescriptionStyleModel",
            "description_width": "",
            "_view_module": "@jupyter-widgets/base",
            "_model_module_version": "1.5.0",
            "_view_count": null,
            "_view_module_version": "1.2.0",
            "_model_module": "@jupyter-widgets/controls"
          }
        },
        "88fbf215be9d4970b2fc913e07b0c46d": {
          "model_module": "@jupyter-widgets/base",
          "model_name": "LayoutModel",
          "model_module_version": "1.2.0",
          "state": {
            "_view_name": "LayoutView",
            "grid_template_rows": null,
            "right": null,
            "justify_content": null,
            "_view_module": "@jupyter-widgets/base",
            "overflow": null,
            "_model_module_version": "1.2.0",
            "_view_count": null,
            "flex_flow": null,
            "width": null,
            "min_width": null,
            "border": null,
            "align_items": null,
            "bottom": null,
            "_model_module": "@jupyter-widgets/base",
            "top": null,
            "grid_column": null,
            "overflow_y": null,
            "overflow_x": null,
            "grid_auto_flow": null,
            "grid_area": null,
            "grid_template_columns": null,
            "flex": null,
            "_model_name": "LayoutModel",
            "justify_items": null,
            "grid_row": null,
            "max_height": null,
            "align_content": null,
            "visibility": null,
            "align_self": null,
            "height": null,
            "min_height": null,
            "padding": null,
            "grid_auto_rows": null,
            "grid_gap": null,
            "max_width": null,
            "order": null,
            "_view_module_version": "1.2.0",
            "grid_template_areas": null,
            "object_position": null,
            "object_fit": null,
            "grid_auto_columns": null,
            "margin": null,
            "display": null,
            "left": null
          }
        },
        "461e1664f750484292cb5a73b2bfa81d": {
          "model_module": "@jupyter-widgets/controls",
          "model_name": "ProgressStyleModel",
          "model_module_version": "1.5.0",
          "state": {
            "_view_name": "StyleView",
            "_model_name": "ProgressStyleModel",
            "description_width": "",
            "_view_module": "@jupyter-widgets/base",
            "_model_module_version": "1.5.0",
            "_view_count": null,
            "_view_module_version": "1.2.0",
            "bar_color": null,
            "_model_module": "@jupyter-widgets/controls"
          }
        },
        "3c9f989e8bc942bcbbc4b1b09124c2db": {
          "model_module": "@jupyter-widgets/base",
          "model_name": "LayoutModel",
          "model_module_version": "1.2.0",
          "state": {
            "_view_name": "LayoutView",
            "grid_template_rows": null,
            "right": null,
            "justify_content": null,
            "_view_module": "@jupyter-widgets/base",
            "overflow": null,
            "_model_module_version": "1.2.0",
            "_view_count": null,
            "flex_flow": null,
            "width": null,
            "min_width": null,
            "border": null,
            "align_items": null,
            "bottom": null,
            "_model_module": "@jupyter-widgets/base",
            "top": null,
            "grid_column": null,
            "overflow_y": null,
            "overflow_x": null,
            "grid_auto_flow": null,
            "grid_area": null,
            "grid_template_columns": null,
            "flex": null,
            "_model_name": "LayoutModel",
            "justify_items": null,
            "grid_row": null,
            "max_height": null,
            "align_content": null,
            "visibility": null,
            "align_self": null,
            "height": null,
            "min_height": null,
            "padding": null,
            "grid_auto_rows": null,
            "grid_gap": null,
            "max_width": null,
            "order": null,
            "_view_module_version": "1.2.0",
            "grid_template_areas": null,
            "object_position": null,
            "object_fit": null,
            "grid_auto_columns": null,
            "margin": null,
            "display": null,
            "left": null
          }
        },
        "88656896006b41d2ae28ad0dd3a64b5f": {
          "model_module": "@jupyter-widgets/controls",
          "model_name": "DescriptionStyleModel",
          "model_module_version": "1.5.0",
          "state": {
            "_view_name": "StyleView",
            "_model_name": "DescriptionStyleModel",
            "description_width": "",
            "_view_module": "@jupyter-widgets/base",
            "_model_module_version": "1.5.0",
            "_view_count": null,
            "_view_module_version": "1.2.0",
            "_model_module": "@jupyter-widgets/controls"
          }
        },
        "d6a790ec6e7b4fb19c648392cbd56a5b": {
          "model_module": "@jupyter-widgets/base",
          "model_name": "LayoutModel",
          "model_module_version": "1.2.0",
          "state": {
            "_view_name": "LayoutView",
            "grid_template_rows": null,
            "right": null,
            "justify_content": null,
            "_view_module": "@jupyter-widgets/base",
            "overflow": null,
            "_model_module_version": "1.2.0",
            "_view_count": null,
            "flex_flow": null,
            "width": null,
            "min_width": null,
            "border": null,
            "align_items": null,
            "bottom": null,
            "_model_module": "@jupyter-widgets/base",
            "top": null,
            "grid_column": null,
            "overflow_y": null,
            "overflow_x": null,
            "grid_auto_flow": null,
            "grid_area": null,
            "grid_template_columns": null,
            "flex": null,
            "_model_name": "LayoutModel",
            "justify_items": null,
            "grid_row": null,
            "max_height": null,
            "align_content": null,
            "visibility": null,
            "align_self": null,
            "height": null,
            "min_height": null,
            "padding": null,
            "grid_auto_rows": null,
            "grid_gap": null,
            "max_width": null,
            "order": null,
            "_view_module_version": "1.2.0",
            "grid_template_areas": null,
            "object_position": null,
            "object_fit": null,
            "grid_auto_columns": null,
            "margin": null,
            "display": null,
            "left": null
          }
        }
      }
    }
  },
  "cells": [
    {
      "cell_type": "markdown",
      "metadata": {
        "id": "view-in-github",
        "colab_type": "text"
      },
      "source": [
        "<a href=\"https://colab.research.google.com/github/colinrsmall/ehm_roster_tools/blob/master/EP_Career_History_Scraper.ipynb\" target=\"_parent\"><img src=\"https://colab.research.google.com/assets/colab-badge.svg\" alt=\"Open In Colab\"/></a>"
      ]
    },
    {
      "cell_type": "markdown",
      "metadata": {
        "id": "S_MhoPkzgQS0"
      },
      "source": [
        "# Instructions:\n",
        "\n",
        "To add leagues to the list, copy and paste an entry in the following list and replace the league's name and EliteProspects link with the name and link of the league you want to scrape. Make sure that all entries except the last end with a comma (as you can see with the first entry). The name you choose for the entry only influences the name of the output file. You can get a league's URL by going to the league's homepage on EP and copying the URL for that page from your browser.\n",
        "\n",
        "To change which season you're scraping for, change the season string following the list of leagues. The string should be of the format 'YYYY-YYYY' (such as '2019-2020' or '2017-2018'). This will the season for which the scraper gets players. For example, setting this to 2020-21 will scrape all players that are contracted in the given league for that year.\n",
        "\n",
        "Change latest_season to the season you want stop scraping after. For example, if you want to get a player's history up to and including the 2007-08 season, set this to 2007-08.\n",
        "\n",
        "If you want the scraper to print out links for players who are missing information on their EP page, change show_error_links to True.\n",
        "\n",
        "To run the scraper, click runtime -> run all."
      ]
    },
    {
      "cell_type": "code",
      "metadata": {
        "id": "TNm0mvf7fk2I"
      },
      "source": [
        "leagues = \"https://www.eliteprospects.com/team/1580/anaheim-ducks\" #@param {type:\"string\"}\n",
        "leagues = leagues.split(',')\n",
        "\n",
        "season = \"2008-09\" #@param {type:\"string\"}\n",
        "latest_season = \"2008-09\" #@param {type:\"string\"}\n",
        "show_error_links = True #@param {type:\"boolean\"}\n",
        "use_google_drive = False #@param {type:\"boolean\"}\n",
        "only_goalies = False #@param {type:\"boolean\"}"
      ],
      "execution_count": 25,
      "outputs": []
    },
    {
      "cell_type": "code",
      "metadata": {
        "id": "wVy_SEtBCI7j"
      },
      "source": [
        "if use_google_drive:\n",
        "  from google.colab import drive\n",
        "  drive.mount('/content/drive')\n",
        "  drive_mounted = True"
      ],
      "execution_count": 26,
      "outputs": []
    },
    {
      "cell_type": "markdown",
      "metadata": {
        "id": "Vy7JIACigLs-"
      },
      "source": [
        "# Expand this if you want to look at the code (optional)"
      ]
    },
    {
      "cell_type": "code",
      "metadata": {
        "id": "jiJNPVH7hiXQ",
        "colab": {
          "base_uri": "https://localhost:8080/"
        },
        "outputId": "9178668f-186b-4170-f116-68099692d3df"
      },
      "source": [
        "!mkdir '/content/leagues/'"
      ],
      "execution_count": 27,
      "outputs": [
        {
          "output_type": "stream",
          "name": "stdout",
          "text": [
            "mkdir: cannot create directory ‘/content/leagues/’: File exists\n"
          ]
        }
      ]
    },
    {
      "cell_type": "code",
      "metadata": {
        "id": "x9_CSQLbjXrR",
        "colab": {
          "base_uri": "https://localhost:8080/"
        },
        "outputId": "a60b713b-b5d5-4bef-fddf-7a27f312fd88"
      },
      "source": [
        "!pip install unidecode"
      ],
      "execution_count": 28,
      "outputs": [
        {
          "output_type": "stream",
          "name": "stdout",
          "text": [
            "Requirement already satisfied: unidecode in /usr/local/lib/python3.7/dist-packages (1.3.2)\n"
          ]
        }
      ]
    },
    {
      "cell_type": "code",
      "metadata": {
        "id": "nA6_8mgBLj2H"
      },
      "source": [
        "import requests, random, csv, traceback, time, urllib.request\n",
        "from bs4 import BeautifulSoup\n",
        "from tqdm.notebook import tqdm\n",
        "from datetime import datetime\n",
        "from google.colab import files\n",
        "import unidecode"
      ],
      "execution_count": 29,
      "outputs": []
    },
    {
      "cell_type": "code",
      "metadata": {
        "id": "LG9qclV3wWHz"
      },
      "source": [
        "def get_name(player_page):\n",
        "  name = player_page.find('h1', class_='ep-entity-header__name').text.strip()\n",
        "  if '.' in name:\n",
        "    first_name = name[:name.find('.')+1]\n",
        "    last_name = name[name.find('.')+1:].split('\\n')[0].strip()\n",
        "  else:\n",
        "    name = name.split(' ')\n",
        "    first_name = name[0]\n",
        "    last_name = ' '.join(name[1:]).split('\\n')[0].strip()\n",
        "  return first_name, last_name\n",
        "\n",
        "\n",
        "def get_dob(player_page):\n",
        "  dob_search_text = \"\"\"\n",
        "                                        Date of Birth\n",
        "                                    \"\"\"\n",
        "  try:\n",
        "    dob_text = player_page.find('div', text=dob_search_text).next_element.next_element.next_element.text.strip()\n",
        "    dob = datetime.strptime(dob_text, '%b %d, %Y').strftime('%-d.%-m.%Y')\n",
        "  except Exception as e:\n",
        "    try:\n",
        "      dob = datetime.strptime(dob_text, '%Y').strftime('1.1.%Y')\n",
        "    except Exception as e:\n",
        "      dob = \"\"\n",
        "      print(f'Missing dob information: {get_name(player_page)[0]} {get_name(player_page)[1]}')\n",
        "  return dob\n",
        "\n",
        "def scrape_history(player_page):\n",
        "  season_text = \"\"\n",
        "  seasons = []\n",
        "  for season in player_page.select(\".player-statistics.regular.postseason\")[0].select('tr[class*=\"team-continent-\"]'):\n",
        "      p_gp = \"0\"\n",
        "      p_g = \"0\"\n",
        "      p_a = \"0\"\n",
        "      p_pim = \"0\"\n",
        "      p_pm = \"0\"\n",
        "\n",
        "      if season.select(\".season.sorted\")[0].text.strip() != \"\":\n",
        "        season_text = season.select(\".season.sorted\")[0].text.strip()\n",
        "      \n",
        "      if season_text == latest_season:\n",
        "        break\n",
        "\n",
        "      if len(season.select(\".fa.fa-loan\")) > 0:\n",
        "        loan = \"y\"\n",
        "      else:\n",
        "        loan = \"n\"\n",
        "\n",
        "      club = season.select(\".team\")[0].text.strip()\n",
        "      if '“A”' in club or '“C”' in club:\n",
        "        club = club[:-5]\n",
        "      club = unidecode.unidecode(club)\n",
        "\n",
        "      competition = season.select(\".league\")[0].text.strip()\n",
        "      r_gp = season.select(\".regular.gp\")[0].text.strip().replace(\"-\", \"0\")\n",
        "      r_g = season.select(\".regular.g\")[0].text.strip().replace(\"-\", \"0\")\n",
        "      r_a = season.select(\".regular.a\")[0].text.strip().replace(\"-\", \"0\")\n",
        "      r_pim = season.select(\".regular.pim\")[0].text.strip().replace(\"-\", \"0\")\n",
        "      r_pm = season.select(\".regular.pm\")[0].text.strip().replace(\"-\", \"0\")\n",
        "\n",
        "      playoffs = None\n",
        "      if season.select(\".postseason.gp\")[0].text.strip() != \"-\" and season.select(\".postseason\")[0].text.strip() == \"Playoffs\":\n",
        "        p_gp = season.select(\".postseason.gp\")[0].text.strip().replace(\"-\", \"0\")\n",
        "        p_g = season.select(\".postseason.g\")[0].text.strip().replace(\"-\", \"0\")\n",
        "        p_a = season.select(\".postseason.a\")[0].text.strip().replace(\"-\", \"0\")\n",
        "        p_pim = season.select(\".postseason.pim\")[0].text.strip().replace(\"-\", \"0\")\n",
        "        p_pm = season.select(\".postseason.pm\")[0].text.strip().replace(\"-\", \"0\")\n",
        "        playoffs = [loan, \"y\", season_text, club, competition, p_gp, p_g, p_a, p_pim, p_pm, \"\", \"\", \"\", \"\", \"\", \"\", \"\"]\n",
        "\n",
        "      regular_season = [loan, \"n\", season_text, club, competition, r_gp, r_g, r_a, r_pim, r_pm, \"\", \"\", \"\", \"\", \"\", \"\", \"\"]\n",
        "      seasons.append((regular_season, playoffs))\n",
        "\n",
        "  return seasons\n",
        "\n",
        "\n",
        "def scrape_history_goalie(player_page):\n",
        "  season_text = \"\"\n",
        "  seasons = []\n",
        "  for season in player_page.select(\".player-statistics.regular.postseason\")[0].select('tr[class*=\"team-continent-\"]'):\n",
        "      p_gp = \"\"\n",
        "\n",
        "      if season.select(\".season.sorted\")[0].text.strip() != \"\":\n",
        "        season_text = season.select(\".season.sorted\")[0].text.strip()\n",
        "      \n",
        "      if season_text == latest_season:\n",
        "        break\n",
        "\n",
        "      if len(season.select(\".fa.fa-loan\")) > 0:\n",
        "        loan = \"y\"\n",
        "      else:\n",
        "        loan = \"n\"\n",
        "\n",
        "      club = season.select(\".team\")[0].text.strip()\n",
        "      if '“A”' in club or '“C”' in club:\n",
        "        club = club[:-5]\n",
        "      club = unidecode.unidecode(club)\n",
        "\n",
        "      competition = season.select(\".league\")[0].text.strip()\n",
        "      r_gp = season.select(\".regular.gp\")[0].text.strip().replace(\"-\", \"0\")\n",
        "\n",
        "      r_so = season.select(\".regular.so\")[0].text.strip()\n",
        "      \n",
        "      r_wlt = season.select(\".regular.wlt\")[0].text.strip()\n",
        "      if \"-\" in r_wlt:\n",
        "        wlt = r_wlt.split(\"-\")\n",
        "        r_w = wlt[0]\n",
        "        r_l = wlt[1]\n",
        "        r_t = wlt[2]\n",
        "      else:\n",
        "        r_w = 0\n",
        "        r_l = 0\n",
        "        r_t = 0\n",
        "    \n",
        "\n",
        "      playoffs = None\n",
        "      if season.select(\".postseason.gp\")[0].text.strip() != \"-\" and season.select(\".postseason\")[0].text.strip() == \"Playoffs\":\n",
        "        p_gp = season.select(\".postseason.gp\")[0].text.strip().replace(\"-\", \"0\")\n",
        "        p_so = season.select(\".postseason.so\")[0].text.strip()\n",
        "        \n",
        "        p_wlt = season.select(\".postseason.wlt\")[0].text.strip()\n",
        "        if \"-\" in p_wlt:\n",
        "          wlt = p_wlt.split(\"-\")\n",
        "          p_w = wlt[0]\n",
        "          p_l = wlt[1]\n",
        "          p_t = wlt[2]\n",
        "        else:\n",
        "          p_w = 0\n",
        "          p_l = 0\n",
        "          p_t = 0\n",
        "\n",
        "        playoffs = [loan, \"y\", season_text, club, competition, p_gp, \"\", \"\", \"\", \"\", \"\", \"\", p_so, p_w, p_l, p_t, \"\"]\n",
        "\n",
        "      regular_season = [loan, \"n\", season_text, club, competition, r_gp, \"\", \"\", \"\", \"\", \"\", \"\", r_so, r_w, r_l, r_t, \"\"]\n",
        "      seasons.append((regular_season, playoffs))\n",
        "\n",
        "  return seasons\n",
        "\n",
        "\n",
        "def scrape_player_page(link, csvwr):\n",
        "  player_page = requests.get(link, headers = {\n",
        "        'user-agent': 'Mozilla/5.0 (Macintosh; Intel Mac OS X 10_11_6) AppleWebKit/537.36 (KHTML, like Gecko) Chrome/56.0.2924.87 Safari/537.36',\n",
        "        'referrer': 'https://google.com',\n",
        "        'Accept': 'text/html,application/xhtml+xml,application/xml;q=0.9,image/webp,image/apng,*/*;q=0.8',\n",
        "        'Accept-Encoding': 'gzip, deflate, br',\n",
        "        'Accept-Language': 'en-US,en;q=0.9',\n",
        "        'Pragma': 'no-cache',\n",
        "    })\n",
        "  \n",
        "  player_page = BeautifulSoup(player_page.content)\n",
        "  first_name, last_name = get_name(player_page)\n",
        "  dob = get_dob(player_page)\n",
        "  position_text = \"\"\"\n",
        "                                        Position\n",
        "                                    \"\"\"\n",
        "  position = player_page.find('div', text=position_text).next_element.next_element.next_element.text.strip()\n",
        "\n",
        "  if position == \"G\":\n",
        "    seasons = scrape_history_goalie(player_page)\n",
        "  elif only_goalies:\n",
        "    return\n",
        "  else:\n",
        "    seasons = scrape_history(player_page)\n",
        "    \n",
        "  for (regular_season, playoffs) in seasons:\n",
        "    csvwr.writerow([first_name, last_name, dob] + regular_season)\n",
        "    if playoffs is not None:\n",
        "      csvwr.writerow([first_name, last_name, dob] + playoffs)"
      ],
      "execution_count": 30,
      "outputs": []
    },
    {
      "cell_type": "code",
      "metadata": {
        "id": "3LxWGSNAfNcq"
      },
      "source": [
        "def scrape():\n",
        "  season_suffix = season[:5] + '20' + season[5:]\n",
        "  for league in tqdm(leagues, desc='Leagues'):\n",
        "    draft = \"draft\" in league\n",
        "    team = \"team\" in league\n",
        "\n",
        "    home_page_link = league if draft else league+'/'+season_suffix\n",
        "    home_page_page = requests.get(home_page_link)\n",
        "    print(home_page_link)\n",
        "    home_page = BeautifulSoup(home_page_page.content)\n",
        "\n",
        "    page_name = home_page.select(\".semi-logo\")[0].text.strip() if team else home_page.select(\".plytitle\")[0].text.strip()\n",
        "    page_name = ' '.join(page_name.replace('\\n', '').split()).strip()\n",
        "\n",
        "    with open(f'/content/leagues/{page_name}.csv', 'w+', newline='', encoding='UTF-8') as csvfile:\n",
        "      csvfile.write('\\ufeff')\n",
        "      csvwriter = csv.writer(csvfile, delimiter=',')\n",
        "      top_header = 'staff_history, dmy'\n",
        "      second_header = 'First name, Second name, Date of Birth, On loan, Playoffs, Year, Club, Competition, GP, G, A, PIM, +/-, Mins, GA, SO, W, L, T/OT, Saves, Edit Club, Edit Competition'\n",
        "      csvwriter.writerow(top_header.split(','))\n",
        "      csvwriter.writerow(second_header.split(','))\n",
        "\n",
        "      if draft:\n",
        "        player_links = set([player['href'] for player in home_page.select('[data-sort-ajax-container=\"#drafted-players\"] .player a')])\n",
        "      elif team:\n",
        "        player_links = []\n",
        "        player_numbers = {}\n",
        "\n",
        "        for player in home_page.select('[data-sort-ajax-container=\"#roster\"] > tbody > tr'):\n",
        "          try:\n",
        "            player_link = player.select('.txt-blue a[href]')[0]\n",
        "            player_links.append(player_link['href'])\n",
        "            player_name = player.select('.txt-blue')[0].text.split('(')[0].strip()\n",
        "            player_number = player.select('.jersey')[0].text.split(\"#\")[1].strip()\n",
        "            player_numbers[player_name] = player_number\n",
        "          except IndexError as e:\n",
        "            continue\n",
        "          \n",
        "      else:\n",
        "        player_links = []\n",
        "        player_numbers = {}\n",
        "        # team_links = set([team['href'] for team in home_page.select('table.standings.table-sortable > tbody > tr > .team > a')])\n",
        "        # if not team_links:\n",
        "        team_links = set([(team['href']+'/'+season_suffix) for team in home_page.select('.inner-rtl .leg-home-inner .list-as-columns > .column-4 > li > a')])\n",
        "        for team_link in team_links:\n",
        "          team_page = requests.get(team_link)\n",
        "          team_page = BeautifulSoup(team_page.content)\n",
        "          for player in team_page.select('[data-sort-ajax-container=\"#roster\"] > tbody > tr'):\n",
        "            try:\n",
        "              player_link = player.select('.txt-blue a[href]')[0]\n",
        "              player_links.append(player_link['href'])\n",
        "              player_name = player.select('.txt-blue')[0].text.split('(')[0].strip()\n",
        "              player_number = player.select('.jersey')[0].text.split(\"#\")[1].strip()\n",
        "              player_numbers[player_name] = player_number\n",
        "            except IndexError as e:\n",
        "              continue\n",
        "\n",
        "      for link in tqdm(player_links, desc='Players', leave=False):\n",
        "        try:\n",
        "          scrape_player_page(link, csvwriter)  \n",
        "        except Exception as e:\n",
        "          if \"team-captaincy\" not in link and \"nation?total\" not in link and 'apple-touch-icon' not in link and 'player_page.find' not in link and show_error_links:\n",
        "            traceback.print_exc()\n",
        "            print(f'Missing player information for: {link}')\n",
        "\n",
        "        time.sleep(random.random() * 3)"
      ],
      "execution_count": 31,
      "outputs": []
    },
    {
      "cell_type": "markdown",
      "metadata": {
        "id": "_H37N4evh1Qc"
      },
      "source": [
        "# Output\n",
        "\n",
        "You should see three progress bars: one showing the progress through the leagues you want to scrape, one showing progress through all of the teams for a given league, and one showing progress through all of the players for a given team.\n",
        "\n",
        "Some players (often in low-level or obscure leagues) will be missing information such as shooting hand, height, weight, or full date of birth. If you set show_error_links to be True in the first cell, and if the scraper comes across such a player, it will print out a small error message stating \"Missing player information for: \" followed by a link to the player's EP page. The scraper will still include the player in the output CSV files, although some fields for that player will be empty.\n",
        "\n",
        "To download the .zip, can click the folder icon on the bar to the left of the screen and right-click -> download file the file 'leagues.zip'."
      ]
    },
    {
      "cell_type": "code",
      "metadata": {
        "id": "girLjYxJh2cn",
        "colab": {
          "base_uri": "https://localhost:8080/",
          "height": 67,
          "referenced_widgets": [
            "cb2f224e4b3c4027b8d3ca799540c7d1",
            "12b32a037546402c802a9dfc49613058",
            "24beb4efffd047e1bbce426c62ecb112",
            "f1c2c1e8b9194b968cde2fe4648e67d0",
            "16c618df1ff344eba77f2dc969914178",
            "8100f823189c4dbea4d84f02e63ba10f",
            "b8ed763daccf4732bc54b21f8d3984de",
            "2b2e49b79b2244ee85a1439da2defeeb",
            "3cae87188e324e69b29ee2559c39da67",
            "95ad05042f5147ca9f9fc876b295ed87",
            "a4657b9f64814deba7aa40dcea8c4645",
            "913662465fdf48c3b216288a84e5ceee",
            "7f5a98ed4ab04578abc0fec2460ecd72",
            "d9c686de0d6449618c75f1b4bae193bc",
            "82be9cff17dd4c3098554410ee457568",
            "0ad78526c98846abafcbaa1929afe9cd",
            "238fa42497f9485e83be4ab9fbefbdc2",
            "88fbf215be9d4970b2fc913e07b0c46d",
            "461e1664f750484292cb5a73b2bfa81d",
            "3c9f989e8bc942bcbbc4b1b09124c2db",
            "88656896006b41d2ae28ad0dd3a64b5f",
            "d6a790ec6e7b4fb19c648392cbd56a5b"
          ]
        },
        "outputId": "a21b15d7-7287-4af9-f0d0-bc559501212d"
      },
      "source": [
        "scrape()"
      ],
      "execution_count": 33,
      "outputs": [
        {
          "output_type": "display_data",
          "data": {
            "application/vnd.jupyter.widget-view+json": {
              "model_id": "cb2f224e4b3c4027b8d3ca799540c7d1",
              "version_minor": 0,
              "version_major": 2
            },
            "text/plain": [
              "Leagues:   0%|          | 0/1 [00:00<?, ?it/s]"
            ]
          },
          "metadata": {}
        },
        {
          "output_type": "stream",
          "name": "stdout",
          "text": [
            "https://www.eliteprospects.com/team/1580/anaheim-ducks/2008-2009\n"
          ]
        },
        {
          "output_type": "display_data",
          "data": {
            "application/vnd.jupyter.widget-view+json": {
              "model_id": "913662465fdf48c3b216288a84e5ceee",
              "version_minor": 0,
              "version_major": 2
            },
            "text/plain": [
              "Players:   0%|          | 0/39 [00:00<?, ?it/s]"
            ]
          },
          "metadata": {}
        }
      ]
    },
    {
      "cell_type": "code",
      "metadata": {
        "id": "Dt5CkyAnnAse"
      },
      "source": [
        "time.sleep(5)\n",
        "!zip leagues.zip -r '/content/leagues/'\n",
        "\n",
        "if use_google_drive:\n",
        "  !mv leagues.zip /content/drive/MyDrive/leagues.zip"
      ],
      "execution_count": null,
      "outputs": []
    },
    {
      "cell_type": "markdown",
      "metadata": {
        "id": "inamXWxnt1CE"
      },
      "source": [
        "# Testing code, no need to look here"
      ]
    },
    {
      "cell_type": "code",
      "metadata": {
        "id": "ytrwo4LJP1Rb"
      },
      "source": [
        "def scrape():\n",
        "  season_suffix = season_to_scrape[:5] + '20' + season_to_scrape[5:]\n",
        "  for league in tqdm(leagues, desc='Leagues'):\n",
        "    # Get draft page's HTML and parse with BeautifulSoup\n",
        "    home_page_link = league[1]+'/'+season_suffix\n",
        "    home_page_page = requests.get(home_page_link)\n",
        "    home_page = BeautifulSoup(home_page_page.content)\n",
        "\n",
        "    with open(f'/content/leagues/{league[0]}.csv', 'w+', newline='', encoding='UTF-8') as csvfile:\n",
        "      csvfile.write('\\ufeff')\n",
        "      csvwriter = csv.writer(csvfile, delimiter=',')\n",
        "      top_header = 'staff_history, dmy'\n",
        "      second_header = 'First name, Second name, Date of Birth, On loan, Playoffs, Year, Club, Competition, GP, G, A, PIM, +/-, Mins, GA, SO, W, L, T/OT, Saves, Edit Club, Edit Competition'\n",
        "      csvwriter.writerow(top_header.split(','))\n",
        "      csvwriter.writerow(second_header.split(','))\n",
        "\n",
        "      player_links = []\n",
        "      team_links = set([team['href'] for team in home_page.select('table.standings.table-sortable > tbody > tr > .team > a')])\n",
        "      if not team_links:\n",
        "        team_links = set([(team['href']+'/'+season_suffix) for team in home_page.select('.inner-rtl .leg-home-inner .list-as-columns > .column-4 > li > a')])\n",
        "      for team_link in team_links:\n",
        "        team_page = requests.get(team_link)\n",
        "        team_page = BeautifulSoup(team_page.content)\n",
        "        players = team_page.select('[data-sort-ajax-container=\"#roster\"] > tbody > tr .txt-blue a[href]')\n",
        "        player_links += [player['href'] for player in players]\n",
        "\n",
        "      for link in tqdm(player_links, desc='Players', leave=False):\n",
        "        try:\n",
        "          scrape_player_page(link, csvwriter)  \n",
        "        except Exception as e:\n",
        "          if \"team-captaincy\" not in link and \"nation?total\" not in link and 'apple-touch-icon' not in link and 'player_page.find' not in link and show_error_links:\n",
        "            traceback.print_exc()\n",
        "            print(f'Missing player information for: {link}')\n",
        "\n",
        "        time.sleep(random.random() * 3)"
      ],
      "execution_count": null,
      "outputs": []
    },
    {
      "cell_type": "code",
      "metadata": {
        "id": "0Rsi0uIysYPd"
      },
      "source": [
        "player_page_link = 'https://www.eliteprospects.com/player/42871/carl-hudson'\n",
        "player_page = requests.get(player_page_link, headers = {\n",
        "      'user-agent': 'Mozilla/5.0 (Macintosh; Intel Mac OS X 10_11_6) AppleWebKit/537.36 (KHTML, like Gecko) Chrome/56.0.2924.87 Safari/537.36',\n",
        "      'referrer': 'https://google.com',\n",
        "      'Accept': 'text/html,application/xhtml+xml,application/xml;q=0.9,image/webp,image/apng,*/*;q=0.8',\n",
        "      'Accept-Encoding': 'gzip, deflate, br',\n",
        "      'Accept-Language': 'en-US,en;q=0.9',\n",
        "      'Pragma': 'no-cache',\n",
        "  })\n",
        "player_page = BeautifulSoup(player_page.content)"
      ],
      "execution_count": null,
      "outputs": []
    },
    {
      "cell_type": "code",
      "metadata": {
        "id": "dtz2fEf5hPer"
      },
      "source": [
        "player_page.select(\".team-continent-NA\")"
      ],
      "execution_count": null,
      "outputs": []
    },
    {
      "cell_type": "code",
      "metadata": {
        "id": "atzNZoT5kMgN"
      },
      "source": [
        ""
      ],
      "execution_count": null,
      "outputs": []
    },
    {
      "cell_type": "code",
      "metadata": {
        "id": "THsBk28ogRtp"
      },
      "source": [
        ""
      ],
      "execution_count": null,
      "outputs": []
    },
    {
      "cell_type": "code",
      "metadata": {
        "id": "h8BJn9c4UkSq"
      },
      "source": [
        ""
      ],
      "execution_count": null,
      "outputs": []
    }
  ]
}