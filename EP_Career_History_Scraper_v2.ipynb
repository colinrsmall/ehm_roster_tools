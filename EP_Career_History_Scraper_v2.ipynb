{
  "nbformat": 4,
  "nbformat_minor": 0,
  "metadata": {
    "colab": {
      "name": "EP Career History Scraper v2",
      "provenance": [],
      "collapsed_sections": [
        "inamXWxnt1CE"
      ],
      "authorship_tag": "ABX9TyNL4i9ogHXeHv4djA5mlHH/",
      "include_colab_link": true
    },
    "kernelspec": {
      "name": "python3",
      "display_name": "Python 3"
    },
    "widgets": {
      "application/vnd.jupyter.widget-state+json": {
        "0dd67bc31dc94d20a173d65c78fb5fd1": {
          "model_module": "@jupyter-widgets/controls",
          "model_name": "HBoxModel",
          "model_module_version": "1.5.0",
          "state": {
            "_dom_classes": [],
            "_model_module": "@jupyter-widgets/controls",
            "_model_module_version": "1.5.0",
            "_model_name": "HBoxModel",
            "_view_count": null,
            "_view_module": "@jupyter-widgets/controls",
            "_view_module_version": "1.5.0",
            "_view_name": "HBoxView",
            "box_style": "",
            "children": [
              "IPY_MODEL_b057606911624b51a3bf2109c51ed7f3",
              "IPY_MODEL_2c84ba41cdf840eebbc2e5b2383d94c7",
              "IPY_MODEL_6e058704f0ca4d0d83b1c37ad34e5a4d"
            ],
            "layout": "IPY_MODEL_cc39370f8c1b4a90890151f5ad5c9503"
          }
        },
        "b057606911624b51a3bf2109c51ed7f3": {
          "model_module": "@jupyter-widgets/controls",
          "model_name": "HTMLModel",
          "model_module_version": "1.5.0",
          "state": {
            "_dom_classes": [],
            "_model_module": "@jupyter-widgets/controls",
            "_model_module_version": "1.5.0",
            "_model_name": "HTMLModel",
            "_view_count": null,
            "_view_module": "@jupyter-widgets/controls",
            "_view_module_version": "1.5.0",
            "_view_name": "HTMLView",
            "description": "",
            "description_tooltip": null,
            "layout": "IPY_MODEL_96dbc647788642edab3cadc0af3326fa",
            "placeholder": "​",
            "style": "IPY_MODEL_f7ea3d6d9c5a4bcc9b834a1ca8d31adc",
            "value": "Leagues: 100%"
          }
        },
        "2c84ba41cdf840eebbc2e5b2383d94c7": {
          "model_module": "@jupyter-widgets/controls",
          "model_name": "FloatProgressModel",
          "model_module_version": "1.5.0",
          "state": {
            "_dom_classes": [],
            "_model_module": "@jupyter-widgets/controls",
            "_model_module_version": "1.5.0",
            "_model_name": "FloatProgressModel",
            "_view_count": null,
            "_view_module": "@jupyter-widgets/controls",
            "_view_module_version": "1.5.0",
            "_view_name": "ProgressView",
            "bar_style": "success",
            "description": "",
            "description_tooltip": null,
            "layout": "IPY_MODEL_567c4489d26d478ebdd51ee1d0e75299",
            "max": 1,
            "min": 0,
            "orientation": "horizontal",
            "style": "IPY_MODEL_6e4332dcf13743ba9b3cbe2a47d0e882",
            "value": 1
          }
        },
        "6e058704f0ca4d0d83b1c37ad34e5a4d": {
          "model_module": "@jupyter-widgets/controls",
          "model_name": "HTMLModel",
          "model_module_version": "1.5.0",
          "state": {
            "_dom_classes": [],
            "_model_module": "@jupyter-widgets/controls",
            "_model_module_version": "1.5.0",
            "_model_name": "HTMLModel",
            "_view_count": null,
            "_view_module": "@jupyter-widgets/controls",
            "_view_module_version": "1.5.0",
            "_view_name": "HTMLView",
            "description": "",
            "description_tooltip": null,
            "layout": "IPY_MODEL_abb3cf6a0f08443da463e029f066ca57",
            "placeholder": "​",
            "style": "IPY_MODEL_5ce36823df234aaf845480e39b7e0d72",
            "value": " 1/1 [00:51&lt;00:00, 51.94s/it]"
          }
        },
        "cc39370f8c1b4a90890151f5ad5c9503": {
          "model_module": "@jupyter-widgets/base",
          "model_name": "LayoutModel",
          "model_module_version": "1.2.0",
          "state": {
            "_model_module": "@jupyter-widgets/base",
            "_model_module_version": "1.2.0",
            "_model_name": "LayoutModel",
            "_view_count": null,
            "_view_module": "@jupyter-widgets/base",
            "_view_module_version": "1.2.0",
            "_view_name": "LayoutView",
            "align_content": null,
            "align_items": null,
            "align_self": null,
            "border": null,
            "bottom": null,
            "display": null,
            "flex": null,
            "flex_flow": null,
            "grid_area": null,
            "grid_auto_columns": null,
            "grid_auto_flow": null,
            "grid_auto_rows": null,
            "grid_column": null,
            "grid_gap": null,
            "grid_row": null,
            "grid_template_areas": null,
            "grid_template_columns": null,
            "grid_template_rows": null,
            "height": null,
            "justify_content": null,
            "justify_items": null,
            "left": null,
            "margin": null,
            "max_height": null,
            "max_width": null,
            "min_height": null,
            "min_width": null,
            "object_fit": null,
            "object_position": null,
            "order": null,
            "overflow": null,
            "overflow_x": null,
            "overflow_y": null,
            "padding": null,
            "right": null,
            "top": null,
            "visibility": null,
            "width": null
          }
        },
        "96dbc647788642edab3cadc0af3326fa": {
          "model_module": "@jupyter-widgets/base",
          "model_name": "LayoutModel",
          "model_module_version": "1.2.0",
          "state": {
            "_model_module": "@jupyter-widgets/base",
            "_model_module_version": "1.2.0",
            "_model_name": "LayoutModel",
            "_view_count": null,
            "_view_module": "@jupyter-widgets/base",
            "_view_module_version": "1.2.0",
            "_view_name": "LayoutView",
            "align_content": null,
            "align_items": null,
            "align_self": null,
            "border": null,
            "bottom": null,
            "display": null,
            "flex": null,
            "flex_flow": null,
            "grid_area": null,
            "grid_auto_columns": null,
            "grid_auto_flow": null,
            "grid_auto_rows": null,
            "grid_column": null,
            "grid_gap": null,
            "grid_row": null,
            "grid_template_areas": null,
            "grid_template_columns": null,
            "grid_template_rows": null,
            "height": null,
            "justify_content": null,
            "justify_items": null,
            "left": null,
            "margin": null,
            "max_height": null,
            "max_width": null,
            "min_height": null,
            "min_width": null,
            "object_fit": null,
            "object_position": null,
            "order": null,
            "overflow": null,
            "overflow_x": null,
            "overflow_y": null,
            "padding": null,
            "right": null,
            "top": null,
            "visibility": null,
            "width": null
          }
        },
        "f7ea3d6d9c5a4bcc9b834a1ca8d31adc": {
          "model_module": "@jupyter-widgets/controls",
          "model_name": "DescriptionStyleModel",
          "model_module_version": "1.5.0",
          "state": {
            "_model_module": "@jupyter-widgets/controls",
            "_model_module_version": "1.5.0",
            "_model_name": "DescriptionStyleModel",
            "_view_count": null,
            "_view_module": "@jupyter-widgets/base",
            "_view_module_version": "1.2.0",
            "_view_name": "StyleView",
            "description_width": ""
          }
        },
        "567c4489d26d478ebdd51ee1d0e75299": {
          "model_module": "@jupyter-widgets/base",
          "model_name": "LayoutModel",
          "model_module_version": "1.2.0",
          "state": {
            "_model_module": "@jupyter-widgets/base",
            "_model_module_version": "1.2.0",
            "_model_name": "LayoutModel",
            "_view_count": null,
            "_view_module": "@jupyter-widgets/base",
            "_view_module_version": "1.2.0",
            "_view_name": "LayoutView",
            "align_content": null,
            "align_items": null,
            "align_self": null,
            "border": null,
            "bottom": null,
            "display": null,
            "flex": null,
            "flex_flow": null,
            "grid_area": null,
            "grid_auto_columns": null,
            "grid_auto_flow": null,
            "grid_auto_rows": null,
            "grid_column": null,
            "grid_gap": null,
            "grid_row": null,
            "grid_template_areas": null,
            "grid_template_columns": null,
            "grid_template_rows": null,
            "height": null,
            "justify_content": null,
            "justify_items": null,
            "left": null,
            "margin": null,
            "max_height": null,
            "max_width": null,
            "min_height": null,
            "min_width": null,
            "object_fit": null,
            "object_position": null,
            "order": null,
            "overflow": null,
            "overflow_x": null,
            "overflow_y": null,
            "padding": null,
            "right": null,
            "top": null,
            "visibility": null,
            "width": null
          }
        },
        "6e4332dcf13743ba9b3cbe2a47d0e882": {
          "model_module": "@jupyter-widgets/controls",
          "model_name": "ProgressStyleModel",
          "model_module_version": "1.5.0",
          "state": {
            "_model_module": "@jupyter-widgets/controls",
            "_model_module_version": "1.5.0",
            "_model_name": "ProgressStyleModel",
            "_view_count": null,
            "_view_module": "@jupyter-widgets/base",
            "_view_module_version": "1.2.0",
            "_view_name": "StyleView",
            "bar_color": null,
            "description_width": ""
          }
        },
        "abb3cf6a0f08443da463e029f066ca57": {
          "model_module": "@jupyter-widgets/base",
          "model_name": "LayoutModel",
          "model_module_version": "1.2.0",
          "state": {
            "_model_module": "@jupyter-widgets/base",
            "_model_module_version": "1.2.0",
            "_model_name": "LayoutModel",
            "_view_count": null,
            "_view_module": "@jupyter-widgets/base",
            "_view_module_version": "1.2.0",
            "_view_name": "LayoutView",
            "align_content": null,
            "align_items": null,
            "align_self": null,
            "border": null,
            "bottom": null,
            "display": null,
            "flex": null,
            "flex_flow": null,
            "grid_area": null,
            "grid_auto_columns": null,
            "grid_auto_flow": null,
            "grid_auto_rows": null,
            "grid_column": null,
            "grid_gap": null,
            "grid_row": null,
            "grid_template_areas": null,
            "grid_template_columns": null,
            "grid_template_rows": null,
            "height": null,
            "justify_content": null,
            "justify_items": null,
            "left": null,
            "margin": null,
            "max_height": null,
            "max_width": null,
            "min_height": null,
            "min_width": null,
            "object_fit": null,
            "object_position": null,
            "order": null,
            "overflow": null,
            "overflow_x": null,
            "overflow_y": null,
            "padding": null,
            "right": null,
            "top": null,
            "visibility": null,
            "width": null
          }
        },
        "5ce36823df234aaf845480e39b7e0d72": {
          "model_module": "@jupyter-widgets/controls",
          "model_name": "DescriptionStyleModel",
          "model_module_version": "1.5.0",
          "state": {
            "_model_module": "@jupyter-widgets/controls",
            "_model_module_version": "1.5.0",
            "_model_name": "DescriptionStyleModel",
            "_view_count": null,
            "_view_module": "@jupyter-widgets/base",
            "_view_module_version": "1.2.0",
            "_view_name": "StyleView",
            "description_width": ""
          }
        },
        "7380e9d7076c4a22938754a3ff816ff7": {
          "model_module": "@jupyter-widgets/controls",
          "model_name": "HBoxModel",
          "model_module_version": "1.5.0",
          "state": {
            "_dom_classes": [],
            "_model_module": "@jupyter-widgets/controls",
            "_model_module_version": "1.5.0",
            "_model_name": "HBoxModel",
            "_view_count": null,
            "_view_module": "@jupyter-widgets/controls",
            "_view_module_version": "1.5.0",
            "_view_name": "HBoxView",
            "box_style": "",
            "children": [
              "IPY_MODEL_0fa69ae7752040be83264ad111eed66a",
              "IPY_MODEL_c382e6538c1c4f92a1c32c02ff01c4c8",
              "IPY_MODEL_93e2851055fd45358e8b8b5b9e259f8a"
            ],
            "layout": "IPY_MODEL_d3acbbebb68e479eb664fbc31aa8b87d"
          }
        },
        "0fa69ae7752040be83264ad111eed66a": {
          "model_module": "@jupyter-widgets/controls",
          "model_name": "HTMLModel",
          "model_module_version": "1.5.0",
          "state": {
            "_dom_classes": [],
            "_model_module": "@jupyter-widgets/controls",
            "_model_module_version": "1.5.0",
            "_model_name": "HTMLModel",
            "_view_count": null,
            "_view_module": "@jupyter-widgets/controls",
            "_view_module_version": "1.5.0",
            "_view_name": "HTMLView",
            "description": "",
            "description_tooltip": null,
            "layout": "IPY_MODEL_ab498fee37dc47e791fab1dd479e6ea2",
            "placeholder": "​",
            "style": "IPY_MODEL_15c9cf5a08fb4a8ca903de8f25c927e3",
            "value": "Players: 100%"
          }
        },
        "c382e6538c1c4f92a1c32c02ff01c4c8": {
          "model_module": "@jupyter-widgets/controls",
          "model_name": "FloatProgressModel",
          "model_module_version": "1.5.0",
          "state": {
            "_dom_classes": [],
            "_model_module": "@jupyter-widgets/controls",
            "_model_module_version": "1.5.0",
            "_model_name": "FloatProgressModel",
            "_view_count": null,
            "_view_module": "@jupyter-widgets/controls",
            "_view_module_version": "1.5.0",
            "_view_name": "ProgressView",
            "bar_style": "",
            "description": "",
            "description_tooltip": null,
            "layout": "IPY_MODEL_c5a7745430c24ce5a6d87a6107faa91b",
            "max": 39,
            "min": 0,
            "orientation": "horizontal",
            "style": "IPY_MODEL_e81d221fc287499e8a0030c8f1f54004",
            "value": 39
          }
        },
        "93e2851055fd45358e8b8b5b9e259f8a": {
          "model_module": "@jupyter-widgets/controls",
          "model_name": "HTMLModel",
          "model_module_version": "1.5.0",
          "state": {
            "_dom_classes": [],
            "_model_module": "@jupyter-widgets/controls",
            "_model_module_version": "1.5.0",
            "_model_name": "HTMLModel",
            "_view_count": null,
            "_view_module": "@jupyter-widgets/controls",
            "_view_module_version": "1.5.0",
            "_view_name": "HTMLView",
            "description": "",
            "description_tooltip": null,
            "layout": "IPY_MODEL_e08800c7516e45dda86abe9425fd8340",
            "placeholder": "​",
            "style": "IPY_MODEL_cba6fce98d8b4bdc9f5958be7fc90c12",
            "value": " 39/39 [00:49&lt;00:00,  1.78s/it]"
          }
        },
        "d3acbbebb68e479eb664fbc31aa8b87d": {
          "model_module": "@jupyter-widgets/base",
          "model_name": "LayoutModel",
          "model_module_version": "1.2.0",
          "state": {
            "_model_module": "@jupyter-widgets/base",
            "_model_module_version": "1.2.0",
            "_model_name": "LayoutModel",
            "_view_count": null,
            "_view_module": "@jupyter-widgets/base",
            "_view_module_version": "1.2.0",
            "_view_name": "LayoutView",
            "align_content": null,
            "align_items": null,
            "align_self": null,
            "border": null,
            "bottom": null,
            "display": null,
            "flex": null,
            "flex_flow": null,
            "grid_area": null,
            "grid_auto_columns": null,
            "grid_auto_flow": null,
            "grid_auto_rows": null,
            "grid_column": null,
            "grid_gap": null,
            "grid_row": null,
            "grid_template_areas": null,
            "grid_template_columns": null,
            "grid_template_rows": null,
            "height": null,
            "justify_content": null,
            "justify_items": null,
            "left": null,
            "margin": null,
            "max_height": null,
            "max_width": null,
            "min_height": null,
            "min_width": null,
            "object_fit": null,
            "object_position": null,
            "order": null,
            "overflow": null,
            "overflow_x": null,
            "overflow_y": null,
            "padding": null,
            "right": null,
            "top": null,
            "visibility": null,
            "width": null
          }
        },
        "ab498fee37dc47e791fab1dd479e6ea2": {
          "model_module": "@jupyter-widgets/base",
          "model_name": "LayoutModel",
          "model_module_version": "1.2.0",
          "state": {
            "_model_module": "@jupyter-widgets/base",
            "_model_module_version": "1.2.0",
            "_model_name": "LayoutModel",
            "_view_count": null,
            "_view_module": "@jupyter-widgets/base",
            "_view_module_version": "1.2.0",
            "_view_name": "LayoutView",
            "align_content": null,
            "align_items": null,
            "align_self": null,
            "border": null,
            "bottom": null,
            "display": null,
            "flex": null,
            "flex_flow": null,
            "grid_area": null,
            "grid_auto_columns": null,
            "grid_auto_flow": null,
            "grid_auto_rows": null,
            "grid_column": null,
            "grid_gap": null,
            "grid_row": null,
            "grid_template_areas": null,
            "grid_template_columns": null,
            "grid_template_rows": null,
            "height": null,
            "justify_content": null,
            "justify_items": null,
            "left": null,
            "margin": null,
            "max_height": null,
            "max_width": null,
            "min_height": null,
            "min_width": null,
            "object_fit": null,
            "object_position": null,
            "order": null,
            "overflow": null,
            "overflow_x": null,
            "overflow_y": null,
            "padding": null,
            "right": null,
            "top": null,
            "visibility": null,
            "width": null
          }
        },
        "15c9cf5a08fb4a8ca903de8f25c927e3": {
          "model_module": "@jupyter-widgets/controls",
          "model_name": "DescriptionStyleModel",
          "model_module_version": "1.5.0",
          "state": {
            "_model_module": "@jupyter-widgets/controls",
            "_model_module_version": "1.5.0",
            "_model_name": "DescriptionStyleModel",
            "_view_count": null,
            "_view_module": "@jupyter-widgets/base",
            "_view_module_version": "1.2.0",
            "_view_name": "StyleView",
            "description_width": ""
          }
        },
        "c5a7745430c24ce5a6d87a6107faa91b": {
          "model_module": "@jupyter-widgets/base",
          "model_name": "LayoutModel",
          "model_module_version": "1.2.0",
          "state": {
            "_model_module": "@jupyter-widgets/base",
            "_model_module_version": "1.2.0",
            "_model_name": "LayoutModel",
            "_view_count": null,
            "_view_module": "@jupyter-widgets/base",
            "_view_module_version": "1.2.0",
            "_view_name": "LayoutView",
            "align_content": null,
            "align_items": null,
            "align_self": null,
            "border": null,
            "bottom": null,
            "display": null,
            "flex": null,
            "flex_flow": null,
            "grid_area": null,
            "grid_auto_columns": null,
            "grid_auto_flow": null,
            "grid_auto_rows": null,
            "grid_column": null,
            "grid_gap": null,
            "grid_row": null,
            "grid_template_areas": null,
            "grid_template_columns": null,
            "grid_template_rows": null,
            "height": null,
            "justify_content": null,
            "justify_items": null,
            "left": null,
            "margin": null,
            "max_height": null,
            "max_width": null,
            "min_height": null,
            "min_width": null,
            "object_fit": null,
            "object_position": null,
            "order": null,
            "overflow": null,
            "overflow_x": null,
            "overflow_y": null,
            "padding": null,
            "right": null,
            "top": null,
            "visibility": null,
            "width": null
          }
        },
        "e81d221fc287499e8a0030c8f1f54004": {
          "model_module": "@jupyter-widgets/controls",
          "model_name": "ProgressStyleModel",
          "model_module_version": "1.5.0",
          "state": {
            "_model_module": "@jupyter-widgets/controls",
            "_model_module_version": "1.5.0",
            "_model_name": "ProgressStyleModel",
            "_view_count": null,
            "_view_module": "@jupyter-widgets/base",
            "_view_module_version": "1.2.0",
            "_view_name": "StyleView",
            "bar_color": null,
            "description_width": ""
          }
        },
        "e08800c7516e45dda86abe9425fd8340": {
          "model_module": "@jupyter-widgets/base",
          "model_name": "LayoutModel",
          "model_module_version": "1.2.0",
          "state": {
            "_model_module": "@jupyter-widgets/base",
            "_model_module_version": "1.2.0",
            "_model_name": "LayoutModel",
            "_view_count": null,
            "_view_module": "@jupyter-widgets/base",
            "_view_module_version": "1.2.0",
            "_view_name": "LayoutView",
            "align_content": null,
            "align_items": null,
            "align_self": null,
            "border": null,
            "bottom": null,
            "display": null,
            "flex": null,
            "flex_flow": null,
            "grid_area": null,
            "grid_auto_columns": null,
            "grid_auto_flow": null,
            "grid_auto_rows": null,
            "grid_column": null,
            "grid_gap": null,
            "grid_row": null,
            "grid_template_areas": null,
            "grid_template_columns": null,
            "grid_template_rows": null,
            "height": null,
            "justify_content": null,
            "justify_items": null,
            "left": null,
            "margin": null,
            "max_height": null,
            "max_width": null,
            "min_height": null,
            "min_width": null,
            "object_fit": null,
            "object_position": null,
            "order": null,
            "overflow": null,
            "overflow_x": null,
            "overflow_y": null,
            "padding": null,
            "right": null,
            "top": null,
            "visibility": null,
            "width": null
          }
        },
        "cba6fce98d8b4bdc9f5958be7fc90c12": {
          "model_module": "@jupyter-widgets/controls",
          "model_name": "DescriptionStyleModel",
          "model_module_version": "1.5.0",
          "state": {
            "_model_module": "@jupyter-widgets/controls",
            "_model_module_version": "1.5.0",
            "_model_name": "DescriptionStyleModel",
            "_view_count": null,
            "_view_module": "@jupyter-widgets/base",
            "_view_module_version": "1.2.0",
            "_view_name": "StyleView",
            "description_width": ""
          }
        }
      }
    }
  },
  "cells": [
    {
      "cell_type": "markdown",
      "metadata": {
        "id": "view-in-github",
        "colab_type": "text"
      },
      "source": [
        "<a href=\"https://colab.research.google.com/github/colinrsmall/ehm_roster_tools/blob/master/EP_Career_History_Scraper_v2.ipynb\" target=\"_parent\"><img src=\"https://colab.research.google.com/assets/colab-badge.svg\" alt=\"Open In Colab\"/></a>"
      ]
    },
    {
      "cell_type": "markdown",
      "metadata": {
        "id": "S_MhoPkzgQS0"
      },
      "source": [
        "# Instructions:\n",
        "\n",
        "To add leagues to the list, copy and paste an entry in the following list and replace the league's name and EliteProspects link with the name and link of the league you want to scrape. Make sure that all entries except the last end with a comma (as you can see with the first entry). The name you choose for the entry only influences the name of the output file. You can get a league's URL by going to the league's homepage on EP and copying the URL for that page from your browser.\n",
        "\n",
        "To change which season you're scraping for, change the season string following the list of leagues. The string should be of the format 'YYYY-YYYY' (such as '2019-2020' or '2017-2018'). This will the season for which the scraper gets players. For example, setting this to 2020-21 will scrape all players that are contracted in the given league for that year.\n",
        "\n",
        "Change latest_season to the season you want stop scraping after. For example, if you want to get a player's history up to and including the 2007-08 season, set this to 2007-08.\n",
        "\n",
        "If you want the scraper to print out links for players who are missing information on their EP page, change show_error_links to True.\n",
        "\n",
        "To run the scraper, click runtime -> run all."
      ]
    },
    {
      "cell_type": "code",
      "metadata": {
        "id": "TNm0mvf7fk2I"
      },
      "source": [
        "leagues = \"https://www.eliteprospects.com/team/1580/anaheim-ducks\" #@param {type:\"string\"}\n",
        "leagues = leagues.split(',')\n",
        "\n",
        "api_key = \"h3n2KkqNeb4ptLknxTVk1uYuGL8jfLUg\" #@param {type:\"string\"}\n",
        "\n",
        "season_year = \"2008-09\" #@param {type:\"string\"}\n",
        "latest_season = \"2008-09\" #@param {type:\"string\"}\n",
        "seasons_to_scrape_text = \"2004-05,2005-06\" #@param {type:\"string\"}\n",
        "show_error_links = True #@param {type:\"boolean\"}\n",
        "use_google_drive = False #@param {type:\"boolean\"}\n",
        "only_goalies = False #@param {type:\"boolean\"}"
      ],
      "execution_count": 85,
      "outputs": []
    },
    {
      "cell_type": "code",
      "metadata": {
        "id": "wVy_SEtBCI7j"
      },
      "source": [
        "if use_google_drive:\n",
        "  from google.colab import drive\n",
        "  drive.mount('/content/drive')\n",
        "  drive_mounted = True"
      ],
      "execution_count": 86,
      "outputs": []
    },
    {
      "cell_type": "markdown",
      "metadata": {
        "id": "Vy7JIACigLs-"
      },
      "source": [
        "# Expand this if you want to look at the code (optional)"
      ]
    },
    {
      "cell_type": "code",
      "metadata": {
        "id": "jiJNPVH7hiXQ",
        "colab": {
          "base_uri": "https://localhost:8080/"
        },
        "outputId": "3a828c73-808c-410c-c26b-8ddba466b61b"
      },
      "source": [
        "!mkdir '/content/leagues/'"
      ],
      "execution_count": 87,
      "outputs": [
        {
          "output_type": "stream",
          "name": "stdout",
          "text": [
            "mkdir: cannot create directory ‘/content/leagues/’: File exists\n"
          ]
        }
      ]
    },
    {
      "cell_type": "code",
      "metadata": {
        "id": "nA6_8mgBLj2H"
      },
      "source": [
        "import requests, random, csv, traceback, time, urllib.request\n",
        "from bs4 import BeautifulSoup\n",
        "from tqdm.notebook import tqdm\n",
        "from datetime import datetime\n",
        "from google.colab import files"
      ],
      "execution_count": 88,
      "outputs": []
    },
    {
      "cell_type": "code",
      "metadata": {
        "id": "LG9qclV3wWHz"
      },
      "source": [
        "def get_season_records(player_id):\n",
        "  request_link = f\"https://api.eliteprospects.com/v1/players/{player_id}/stats?sort=season&apiKey={api_key}\"\n",
        "  response = requests.get(request_link)\n",
        "  if response.ok:\n",
        "    json = response.json()\n",
        "    return json[\"data\"]\n",
        "  else:\n",
        "    response.raise_for_status()\n",
        "\n",
        "\n",
        "def scrape_history(player_id, position):\n",
        "  season_records = get_season_records(player_id)\n",
        "  season_stats = []\n",
        "\n",
        "  seasons_to_scrape = seasons_to_scrape_text.split(\",\")\n",
        "\n",
        "  for season in season_records:\n",
        "    year = season[\"season\"][\"slug\"][:5] + season[\"season\"][\"slug\"][7:]\n",
        "\n",
        "    if season[\"team\"] and (len(seasons_to_scrape) == 0 or year in seasons_to_scrape):\n",
        "      loan = 'y' if season[\"contractType\"] == \"loan\" else 'n'\n",
        "\n",
        "      # scrape regular season\n",
        "      club = season[\"team\"][\"name\"]\n",
        "      competition = season[\"league\"][\"name\"]\n",
        "      \n",
        "      playoff_stats = None\n",
        "      reg_season_stats = None\n",
        "\n",
        "      if season[\"regularStats\"]:\n",
        "        gp = season[\"regularStats\"][\"GP\"]\n",
        "\n",
        "        if position != \"G\":\n",
        "          g = season[\"regularStats\"][\"G\"]\n",
        "          a = season[\"regularStats\"][\"A\"]\n",
        "          pim = season[\"regularStats\"][\"PIM\"]\n",
        "          pm = season[\"regularStats\"][\"PM\"]\n",
        "          reg_season_stats = [loan, \"n\", year, club, competition, gp, g, a, pim, pm]\n",
        "        else: # TODO: Scrape minutes, GA, SO, W, L, T, save records for goalies\n",
        "          svp = season[\"regularStats\"][\"SVP\"]\n",
        "          gaa = season[\"regularStats\"][\"GAA\"]\n",
        "          reg_season_stats = [loan, \"n\", year, club, competition, gp]\n",
        "      # scrape playoffs\n",
        "      if season[\"postseasonStats\"]:\n",
        "        p_gp = season[\"postseasonStats\"][\"GP\"]\n",
        "        \n",
        "        if position != \"G\":\n",
        "          p_g = season[\"postseasonStats\"][\"G\"]\n",
        "          p_a = season[\"postseasonStats\"][\"A\"]\n",
        "          p_pim = season[\"postseasonStats\"][\"PIM\"]\n",
        "          p_pm = season[\"postseasonStats\"][\"PM\"]\n",
        "          playoff_stats = [loan, \"y\", year, club, competition, p_gp, p_g, p_a, p_pim, p_pm]\n",
        "        else: # TODO: Scrape minutes, GA, SO, W, L, T, save records for goalies\n",
        "          p_gp = season[\"postseasonStats\"][\"GP\"]\n",
        "          p_svp = season[\"postseasonStats\"][\"SVP\"]\n",
        "          p_gaa = season[\"postseasonStats\"][\"GAA\"]\n",
        "          playoff_stats = [loan, \"y\", year, club, competition, p_gp]\n",
        "\n",
        "      if reg_season_stats:\n",
        "        season_stats.append(reg_season_stats)\n",
        "      \n",
        "      if playoff_stats:\n",
        "        season_stats.append(playoff_stats)\n",
        "\n",
        "      if year == latest_season:\n",
        "        break\n",
        "\n",
        "  return season_stats\n",
        "\n",
        "\n",
        "def get_basic_player_info(player_id):\n",
        "  request_link = f\"https://api.eliteprospects.com/v1/players/{player_id}?fields=firstName,lastName,position,dateOfBirth&apiKey={api_key}\"\n",
        "  response = requests.get(request_link)\n",
        "  if response.ok:\n",
        "    json = response.json()\n",
        "    first_name = json[\"data\"][\"firstName\"]\n",
        "    last_name = json[\"data\"][\"lastName\"]\n",
        "    position = json[\"data\"][\"position\"]\n",
        "    dob_text = json[\"data\"][\"dateOfBirth\"]\n",
        "    dob = datetime.strptime(dob_text, '%Y-%m-%d').strftime('%-d.%-m.%Y')\n",
        "    return first_name, last_name, position, dob\n",
        "  else:\n",
        "    response.raise_for_status()\n",
        "\n",
        "def scrape_player_page(link, csvwr):\n",
        "  player_id = link.split(\"https://www.eliteprospects.com/player/\")[1].split('/')[0]\n",
        "  first_name, last_name, position, dob = get_basic_player_info(player_id)\n",
        "  season_records = scrape_history(player_id, position)\n",
        "\n",
        "  for record in season_records:\n",
        "    csvwr.writerow([first_name, last_name, dob] + record)"
      ],
      "execution_count": 89,
      "outputs": []
    },
    {
      "cell_type": "code",
      "metadata": {
        "id": "3LxWGSNAfNcq"
      },
      "source": [
        "def scrape():\n",
        "  season_suffix = season_year[:5] + '20' + season_year[5:]\n",
        "  for league in tqdm(leagues, desc='Leagues'):\n",
        "    draft = \"draft\" in league\n",
        "    team = \"team\" in league\n",
        "\n",
        "    home_page_link = league if draft else league+'/'+season_suffix\n",
        "    home_page_page = requests.get(home_page_link)\n",
        "    print(home_page_link)\n",
        "    home_page = BeautifulSoup(home_page_page.content)\n",
        "\n",
        "    page_name = home_page.select(\".semi-logo\")[0].text.strip() if team else home_page.select(\".plytitle\")[0].text.strip()\n",
        "    page_name = ' '.join(page_name.replace('\\n', '').split()).strip()\n",
        "\n",
        "    with open(f'/content/leagues/{page_name}.csv', 'w+', newline='', encoding='UTF-8') as csvfile:\n",
        "      csvfile.write('\\ufeff')\n",
        "      csvwriter = csv.writer(csvfile, delimiter=',')\n",
        "      top_header = 'staff_history, dmy'\n",
        "      second_header = 'First name, Second name, Date of Birth, On loan, Playoffs, Year, Club, Competition, GP, G, A, PIM, +/-, Mins, GA, SO, W, L, T/OT, Saves, Edit Club, Edit Competition'\n",
        "      csvwriter.writerow(top_header.split(','))\n",
        "      csvwriter.writerow(second_header.split(','))\n",
        "\n",
        "      if draft:\n",
        "        player_links = set([player['href'] for player in home_page.select('[data-sort-ajax-container=\"#drafted-players\"] .player a')])\n",
        "      elif team:\n",
        "        player_links = []\n",
        "        player_numbers = {}\n",
        "\n",
        "        for player in home_page.select('[data-sort-ajax-container=\"#roster\"] > tbody > tr'):\n",
        "          try:\n",
        "            player_link = player.select('.txt-blue a[href]')[0]\n",
        "            player_links.append(player_link['href'])\n",
        "            player_name = player.select('.txt-blue')[0].text.split('(')[0].strip()\n",
        "            player_number = player.select('.jersey')[0].text.split(\"#\")[1].strip()\n",
        "            player_numbers[player_name] = player_number\n",
        "          except IndexError as e:\n",
        "            continue\n",
        "          \n",
        "      else:\n",
        "        player_links = []\n",
        "        player_numbers = {}\n",
        "        # team_links = set([team['href'] for team in home_page.select('table.standings.table-sortable > tbody > tr > .team > a')])\n",
        "        # if not team_links:\n",
        "        team_links = set([(team['href']+'/'+season_suffix) for team in home_page.select('.inner-rtl .leg-home-inner .list-as-columns > .column-4 > li > a')])\n",
        "        for team_link in team_links:\n",
        "          team_page = requests.get(team_link)\n",
        "          team_page = BeautifulSoup(team_page.content)\n",
        "          for player in team_page.select('[data-sort-ajax-container=\"#roster\"] > tbody > tr'):\n",
        "            try:\n",
        "              player_link = player.select('.txt-blue a[href]')[0]\n",
        "              player_links.append(player_link['href'])\n",
        "              player_name = player.select('.txt-blue')[0].text.split('(')[0].strip()\n",
        "              player_number = player.select('.jersey')[0].text.split(\"#\")[1].strip()\n",
        "              player_numbers[player_name] = player_number\n",
        "            except IndexError as e:\n",
        "              continue\n",
        "\n",
        "      for link in tqdm(player_links, desc='Players', leave=False):\n",
        "        try:\n",
        "          scrape_player_page(link, csvwriter)  \n",
        "        except Exception as e:\n",
        "          if \"team-captaincy\" not in link and \"nation?total\" not in link and 'apple-touch-icon' not in link and 'player_page.find' not in link and show_error_links:\n",
        "            traceback.print_exc()\n",
        "            print(f'Missing player information for: {link}')\n",
        "\n",
        "        time.sleep(random.random() * 1)"
      ],
      "execution_count": 90,
      "outputs": []
    },
    {
      "cell_type": "markdown",
      "metadata": {
        "id": "_H37N4evh1Qc"
      },
      "source": [
        "# Output\n",
        "\n",
        "You should see three progress bars: one showing the progress through the leagues you want to scrape, one showing progress through all of the teams for a given league, and one showing progress through all of the players for a given team.\n",
        "\n",
        "Some players (often in low-level or obscure leagues) will be missing information such as shooting hand, height, weight, or full date of birth. If you set show_error_links to be True in the first cell, and if the scraper comes across such a player, it will print out a small error message stating \"Missing player information for: \" followed by a link to the player's EP page. The scraper will still include the player in the output CSV files, although some fields for that player will be empty.\n",
        "\n",
        "To download the .zip, can click the folder icon on the bar to the left of the screen and right-click -> download file the file 'leagues.zip'."
      ]
    },
    {
      "cell_type": "code",
      "metadata": {
        "id": "girLjYxJh2cn",
        "colab": {
          "base_uri": "https://localhost:8080/",
          "height": 67,
          "referenced_widgets": [
            "0dd67bc31dc94d20a173d65c78fb5fd1",
            "b057606911624b51a3bf2109c51ed7f3",
            "2c84ba41cdf840eebbc2e5b2383d94c7",
            "6e058704f0ca4d0d83b1c37ad34e5a4d",
            "cc39370f8c1b4a90890151f5ad5c9503",
            "96dbc647788642edab3cadc0af3326fa",
            "f7ea3d6d9c5a4bcc9b834a1ca8d31adc",
            "567c4489d26d478ebdd51ee1d0e75299",
            "6e4332dcf13743ba9b3cbe2a47d0e882",
            "abb3cf6a0f08443da463e029f066ca57",
            "5ce36823df234aaf845480e39b7e0d72",
            "7380e9d7076c4a22938754a3ff816ff7",
            "0fa69ae7752040be83264ad111eed66a",
            "c382e6538c1c4f92a1c32c02ff01c4c8",
            "93e2851055fd45358e8b8b5b9e259f8a",
            "d3acbbebb68e479eb664fbc31aa8b87d",
            "ab498fee37dc47e791fab1dd479e6ea2",
            "15c9cf5a08fb4a8ca903de8f25c927e3",
            "c5a7745430c24ce5a6d87a6107faa91b",
            "e81d221fc287499e8a0030c8f1f54004",
            "e08800c7516e45dda86abe9425fd8340",
            "cba6fce98d8b4bdc9f5958be7fc90c12"
          ]
        },
        "outputId": "4103d6e8-d7e9-454f-bdb6-2723db2e5fc8"
      },
      "source": [
        "scrape()"
      ],
      "execution_count": 91,
      "outputs": [
        {
          "output_type": "display_data",
          "data": {
            "text/plain": [
              "Leagues:   0%|          | 0/1 [00:00<?, ?it/s]"
            ],
            "application/vnd.jupyter.widget-view+json": {
              "version_major": 2,
              "version_minor": 0,
              "model_id": "0dd67bc31dc94d20a173d65c78fb5fd1"
            }
          },
          "metadata": {}
        },
        {
          "output_type": "stream",
          "name": "stdout",
          "text": [
            "https://www.eliteprospects.com/team/1580/anaheim-ducks/2008-2009\n"
          ]
        },
        {
          "output_type": "display_data",
          "data": {
            "text/plain": [
              "Players:   0%|          | 0/39 [00:00<?, ?it/s]"
            ],
            "application/vnd.jupyter.widget-view+json": {
              "version_major": 2,
              "version_minor": 0,
              "model_id": "7380e9d7076c4a22938754a3ff816ff7"
            }
          },
          "metadata": {}
        }
      ]
    },
    {
      "cell_type": "code",
      "metadata": {
        "id": "Dt5CkyAnnAse"
      },
      "source": [
        "time.sleep(5)\n",
        "!zip leagues.zip -r '/content/leagues/'\n",
        "\n",
        "if use_google_drive:\n",
        "  !mv leagues.zip /content/drive/MyDrive/leagues.zip"
      ],
      "execution_count": null,
      "outputs": []
    },
    {
      "cell_type": "markdown",
      "metadata": {
        "id": "inamXWxnt1CE"
      },
      "source": [
        "# Testing code, no need to look here"
      ]
    },
    {
      "cell_type": "code",
      "metadata": {
        "id": "ytrwo4LJP1Rb"
      },
      "source": [
        "def scrape():\n",
        "  season_suffix = season_to_scrape[:5] + '20' + season_to_scrape[5:]\n",
        "  for league in tqdm(leagues, desc='Leagues'):\n",
        "    # Get draft page's HTML and parse with BeautifulSoup\n",
        "    home_page_link = league[1]+'/'+season_suffix\n",
        "    home_page_page = requests.get(home_page_link)\n",
        "    home_page = BeautifulSoup(home_page_page.content)\n",
        "\n",
        "    with open(f'/content/leagues/{league[0]}.csv', 'w+', newline='', encoding='UTF-8') as csvfile:\n",
        "      csvfile.write('\\ufeff')\n",
        "      csvwriter = csv.writer(csvfile, delimiter=',')\n",
        "      top_header = 'staff_history, dmy'\n",
        "      second_header = 'First name, Second name, Date of Birth, On loan, Playoffs, Year, Club, Competition, GP, G, A, PIM, +/-, Mins, GA, SO, W, L, T/OT, Saves, Edit Club, Edit Competition'\n",
        "      csvwriter.writerow(top_header.split(','))\n",
        "      csvwriter.writerow(second_header.split(','))\n",
        "\n",
        "      player_links = []\n",
        "      team_links = set([team['href'] for team in home_page.select('table.standings.table-sortable > tbody > tr > .team > a')])\n",
        "      if not team_links:\n",
        "        team_links = set([(team['href']+'/'+season_suffix) for team in home_page.select('.inner-rtl .leg-home-inner .list-as-columns > .column-4 > li > a')])\n",
        "      for team_link in team_links:\n",
        "        team_page = requests.get(team_link)\n",
        "        team_page = BeautifulSoup(team_page.content)\n",
        "        players = team_page.select('[data-sort-ajax-container=\"#roster\"] > tbody > tr .txt-blue a[href]')\n",
        "        player_links += [player['href'] for player in players]\n",
        "\n",
        "      for link in tqdm(player_links, desc='Players', leave=False):\n",
        "        try:\n",
        "          scrape_player_page(link, csvwriter)  \n",
        "        except Exception as e:\n",
        "          if \"team-captaincy\" not in link and \"nation?total\" not in link and 'apple-touch-icon' not in link and 'player_page.find' not in link and show_error_links:\n",
        "            traceback.print_exc()\n",
        "            print(f'Missing player information for: {link}')\n",
        "\n",
        "        time.sleep(random.random() * 3)"
      ],
      "execution_count": null,
      "outputs": []
    },
    {
      "cell_type": "code",
      "metadata": {
        "id": "0Rsi0uIysYPd"
      },
      "source": [
        "player_page_link = 'https://www.eliteprospects.com/player/42871/carl-hudson'\n",
        "player_page = requests.get(player_page_link, headers = {\n",
        "      'user-agent': 'Mozilla/5.0 (Macintosh; Intel Mac OS X 10_11_6) AppleWebKit/537.36 (KHTML, like Gecko) Chrome/56.0.2924.87 Safari/537.36',\n",
        "      'referrer': 'https://google.com',\n",
        "      'Accept': 'text/html,application/xhtml+xml,application/xml;q=0.9,image/webp,image/apng,*/*;q=0.8',\n",
        "      'Accept-Encoding': 'gzip, deflate, br',\n",
        "      'Accept-Language': 'en-US,en;q=0.9',\n",
        "      'Pragma': 'no-cache',\n",
        "  })\n",
        "player_page = BeautifulSoup(player_page.content)"
      ],
      "execution_count": null,
      "outputs": []
    },
    {
      "cell_type": "code",
      "metadata": {
        "id": "dtz2fEf5hPer"
      },
      "source": [
        "player_page.select(\".team-continent-NA\")"
      ],
      "execution_count": null,
      "outputs": []
    },
    {
      "cell_type": "code",
      "metadata": {
        "id": "atzNZoT5kMgN"
      },
      "source": [
        ""
      ],
      "execution_count": null,
      "outputs": []
    },
    {
      "cell_type": "code",
      "metadata": {
        "id": "THsBk28ogRtp"
      },
      "source": [
        ""
      ],
      "execution_count": null,
      "outputs": []
    },
    {
      "cell_type": "code",
      "metadata": {
        "id": "h8BJn9c4UkSq"
      },
      "source": [
        ""
      ],
      "execution_count": null,
      "outputs": []
    }
  ]
}