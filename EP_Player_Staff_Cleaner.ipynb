{
  "nbformat": 4,
  "nbformat_minor": 0,
  "metadata": {
    "colab": {
      "provenance": [],
      "collapsed_sections": [
        "inamXWxnt1CE"
      ],
      "authorship_tag": "ABX9TyNWkggC0C9X/E9AF0zvU3RX",
      "include_colab_link": true
    },
    "kernelspec": {
      "name": "python3",
      "display_name": "Python 3"
    }
  },
  "cells": [
    {
      "cell_type": "markdown",
      "metadata": {
        "id": "view-in-github",
        "colab_type": "text"
      },
      "source": [
        "<a href=\"https://colab.research.google.com/github/colinrsmall/ehm_roster_tools/blob/master/EP_Player_Staff_Cleaner.ipynb\" target=\"_parent\"><img src=\"https://colab.research.google.com/assets/colab-badge.svg\" alt=\"Open In Colab\"/></a>"
      ]
    },
    {
      "cell_type": "code",
      "metadata": {
        "id": "TNm0mvf7fk2I"
      },
      "source": [
        "api_key = \"h3n2KkqNeb4ptLknxTVk1uYuGL8jfLUg\" #@param {type:\"string\"}\n",
        "most_recent_player_year = \"2021\" #@param {type:\"string\"}\n",
        "most_recent_staff_year = \"2020\" #@param {type:\"string\"}"
      ],
      "execution_count": 41,
      "outputs": []
    },
    {
      "cell_type": "markdown",
      "metadata": {
        "id": "Vy7JIACigLs-"
      },
      "source": [
        "# Expand this if you want to look at the code (optional)"
      ]
    },
    {
      "cell_type": "code",
      "metadata": {
        "id": "nA6_8mgBLj2H"
      },
      "source": [
        "import requests, random, csv, traceback, time, urllib.request\n",
        "from bs4 import BeautifulSoup\n",
        "from tqdm.notebook import tqdm\n",
        "from datetime import datetime\n",
        "from google.colab import files"
      ],
      "execution_count": 5,
      "outputs": []
    },
    {
      "cell_type": "code",
      "metadata": {
        "id": "LG9qclV3wWHz"
      },
      "source": [
        "# Read input file\n",
        "with open(f'/content/input.csv', 'r+', newline='', encoding='UTF-8') as input_file:\n",
        "  # Set up output file\n",
        "  with open(f'/content/output.csv', 'w+', newline='', encoding='UTF-8') as output_file:\n",
        "    output_file.write('\\ufeff')\n",
        "    csvwriter = csv.writer(output_file, delimiter=',')\n",
        "    top_header = 'staff,dmy,metric,,|--,NATIONALITY,,--|,,|--,,,CLUB CONTRACT,,,,--|,|--,NATION CONTRACT,,--|,|--,NATIONAL TEAM,--|,|-- NHL,--|,|--,EDIT DETAILS,--|,|--,,,STAFF ATTRIBUTES,,,,--|,|-- PLAYER ABILITY,--|,|--,PLAYER REPUTATION,--|,|--,,POSITION,,,--|,|--,ROLE,--|,,|--,JERSEY #,--|,,,,|--,,,,,,MENTAL,,,,,,,--|,|--,,,,PHYSICAL,,,,,--|,|--,,,,,,TECHNICAL,,,,,,,--|,|--,,GOALIE,,--|,|-- NON-PLAYER ABILITY,--|,|--,NON-PLAYER REPUTATION,--|,|--,,,TECHNICAL ABILITY,,,,--|,|--,,,TECHNIQUE,,,--|,,|--,BUSINESS,--|,|--,,MENTAL,,--|,|--,,NOT IMPORTED,,--|'\n",
        "    second_header = 'Mode (e),First Name,Second Name,Date of Birth,Nation,SecondNation,DeclaredNation,BirthTown,Classification,JobForClub,ClubContracted,ClubPlaying,DateJoinedClub,ContractExpiresClub,EstimatedWage,EstimatedWageWeekly,EstimatedValue,JobForNation,NationContracted,DateJoinedNation,ContractExpiresNation,InternationalApps,InternationalGoals,InternationalAssists,FirstNHLContract,StanleyCupsWon,New first name,New second name,New date of birth,Adaptability,Ambition,Determination,Loyalty,Pressure,Professionalism,Sportsmanship,Temperament,CurrentAbility,PotentialAbility,HomeReputation,CurrentReputation,WorldReputation,Goaltender,LeftDefense,RightDefense,LeftWing,Center,RightWing,DefensiveRole,OffensiveRole,Role,Hand,FavouriteNumber,SquadNumber,InternationalSquadNumber,HeightCm,WeightKg,JnrPreference,Aggression,Anticipation,Bravery,Consistency,Decisions,Dirtiness,Flair,ImportantMatches,Leadership,Morale,PassTendency,Teamwork,Creativity,WorkRate,Acceleration,Agility,Balance,Fighting,Hitting,InjuryProneness,NaturalFitness,Pace,Stamina,Strength,Agitation,Checking,Deflections,Deking,Faceoffs,Movement,OneOnOnes,Passing,Pokecheck,Positioning,Slapshot,Stickhandling,Versatility,Wristshot,Blocker,Glove,Rebounds,Recovery,Reflexes,CurrentAbility,PotentialAbility,HomeReputation,CurrentReputation,WorldReputation,PreferredJob,Attacking,Directness,FreeRoles,LineMatching,PenaltyKill,Physical,PowerPlay,CoachingGoaltenders,CoachingDefensemen,CoachingForwards,CoachingTechnique,Judgement,JudgingPotential,Tactics,Physiotherapy,Business,Patience,Resources,Discipline,Interference,ManHandling,Motivating,Youngsters,League contracted,League playing,Latest career history,NHL Draft Eligible,NHL Drafted'\n",
        "    csvwriter.writerow(top_header.split(','))\n",
        "    csvwriter.writerow(second_header.split(','))\n",
        "\n",
        "    # Read input file\n",
        "    csvreader = csv.reader(input_file, delimiter=',')\n",
        "    for row in csvreader:\n",
        "      # Skip header rows\n",
        "      if row[0] != \"\":\n",
        "        continue\n",
        "\n",
        "      try:\n",
        "        # Get the name, birth date, and birth place of a player or staff member\n",
        "        first_name = row[1]\n",
        "        last_name = row[2]\n",
        "        dob = datetime.strptime(row[3], \"%d.%m.%Y\")\n",
        "\n",
        "        # Search EP for the player or staff member\n",
        "        # There may exist multiple players and/or staff members with the same name, so we check each's DOB to make sure it matches the input player or staff member\n",
        "        request_link = f\"https://api.eliteprospects.com/v1/search?q={first_name + ' ' + last_name}&apiKey={api_key}\"\n",
        "        response = requests.get(request_link)\n",
        "        json = response.json()[\"data\"]\n",
        "        player_ids = [entry[\"id\"] for entry in json[\"player\"]]\n",
        "        staff_ids = [entry[\"id\"] for entry in json[\"staff\"]]\n",
        "\n",
        "        # For each matching player, denote whether any has played within the last 2 years\n",
        "        # Also check if the date of birth for each matches the date of birth of the input staff or player\n",
        "        recently_active = False\n",
        "        for id in player_ids:\n",
        "          # Check if DOB matches\n",
        "          request_link = f\"https://api.eliteprospects.com/v1/players/{id}?apiKey={api_key}\"\n",
        "          response = requests.get(request_link)\n",
        "          player_data = response.json()[\"data\"]\n",
        "          date_of_birth = datetime.strptime(player_data[\"dateOfBirth\"], '%Y-%m-%d')\n",
        "          if date_of_birth == dob:\n",
        "            # Get recent seasons\n",
        "            request_link = f\"https://api.eliteprospects.com/v1/players/{id}/stats?offset=0&limit=100&sort=season&apiKey={api_key}\"\n",
        "            response = requests.get(request_link)\n",
        "            seasons = response.json()[\"data\"]\n",
        "            last_season = seasons[-1][\"season\"][\"endYear\"]\n",
        "            if int(last_season) <= int(most_recent_player_year):\n",
        "              recently_active = True\n",
        "              break\n",
        "\n",
        "        if not recently_active: # No reason to check staff if we have already found the right player\n",
        "          for id in staff_ids:\n",
        "            # Check if DOB matches\n",
        "            request_link = f\"https://api.eliteprospects.com/v1/staff/{id}?apiKey={api_key}\"\n",
        "            response = requests.get(request_link)\n",
        "            player_data = response.json()[\"data\"]\n",
        "            date_of_birth = datetime.strptime(player_data[\"dateOfBirth\"], '%Y-%m-%d')\n",
        "            if date_of_birth == dob:\n",
        "              # Get recent seasons\n",
        "              request_link = f\"https://api.eliteprospects.com/v1/staff/{id}/stats?offset=0&limit=100&sort=season&apiKey={api_key}\"\n",
        "              response = requests.get(request_link)\n",
        "              seasons = response.json()[\"data\"]\n",
        "              last_season = seasons[-1][\"season\"][\"endYear\"]\n",
        "              if int(last_season) <= int(most_recent_staff_year):\n",
        "                recently_active = True\n",
        "                break\n",
        "\n",
        "        if recently_active:\n",
        "          row[0] = \"d\"\n",
        "\n",
        "        csvwriter.writerow(row)\n",
        "      except Exception:\n",
        "        row[0] = \"e\"\n",
        "        csvwriter.writerow(row)"
      ],
      "execution_count": 53,
      "outputs": []
    }
  ]
}