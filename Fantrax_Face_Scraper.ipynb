{
  "nbformat": 4,
  "nbformat_minor": 0,
  "metadata": {
    "colab": {
      "name": "Fantrax Face Scraper",
      "provenance": [],
      "authorship_tag": "ABX9TyOiBp7bWdJqq6k0fAYxCpEb",
      "include_colab_link": true
    },
    "kernelspec": {
      "name": "python3",
      "display_name": "Python 3"
    }
  },
  "cells": [
    {
      "cell_type": "markdown",
      "metadata": {
        "id": "view-in-github",
        "colab_type": "text"
      },
      "source": [
        "<a href=\"https://colab.research.google.com/github/colinrsmall/ehm_roster_tools/blob/master/Fantrax_Face_Scraper.ipynb\" target=\"_parent\"><img src=\"https://colab.research.google.com/assets/colab-badge.svg\" alt=\"Open In Colab\"/></a>"
      ]
    },
    {
      "cell_type": "code",
      "metadata": {
        "id": "CLBAsMKmabNy",
        "colab_type": "code",
        "colab": {}
      },
      "source": [
        "import sys\n",
        "import requests\n",
        "import json\n",
        "import urllib.request\n",
        "from itertools import permutations\n",
        "from datetime import datetime\n",
        "from tqdm import tqdm\n",
        "\n",
        "url = 'https://www.fantrax.com/fxpa/req'\n",
        "alphabet = 'abcdefghijklmnopqrstuvwxyz0123456789'\n",
        "prev_hit = False\n",
        "prev = '03yz9'\n",
        "\n",
        "for prefix in ['0', '1', '2', '3', '4', '5']:\n",
        "    for code in tqdm(permutations(alphabet, 3), total=42840, unit=\"players\"):\n",
        "        if(f'0{prefix}{\"\".join(code)}' == prev):\n",
        "            prev_hit = True\n",
        "        if(prev_hit):\n",
        "            payload = '{\"msgs\":[{\"method\":\"getPlayerProfile\",\"data\":{\"playerId\":\"' + f'0{prefix}{\"\".join(code)}' + '\"}},{\"method\":\"getRefObject\",\"data\":{\"type\":\"PlayerActionType\"}}],\"ng2\":true,\"href\":\"https://www.fantrax.com/player/00400\",\"dt\":1,\"at\":0,\"tz\":\"America/New_York\",\"v\":\"8.0.3\"}'\n",
        "            headers = {}\n",
        "            response = requests.request('POST', url, headers = headers, data = payload)\n",
        "            if response.status_code == 200:    \n",
        "                response_json = json.loads(response.text)\n",
        "                try:\n",
        "                    player_position = response_json['responses'][0]['data']['miscData']['defaultPosition']\n",
        "                    headshot_url = response_json['responses'][0]['data']['miscData']['headshotUrl']\n",
        "                    if( headshot_url != \"null\" ):\n",
        "                        first_name = response_json['responses'][0]['data']['miscData']['name'].split(',')[1].strip()\n",
        "                        last_name = response_json['responses'][0]['data']['miscData']['name'].split(',')[0].strip()\n",
        "                        birthdate = datetime.strptime(response_json['responses'][0]['data']['miscData']['personalInfo'][1]['value'], '%B %d, %Y').strftime('%d.%m.%Y')\n",
        "                        image = urllib.request.urlopen(headshot_url).read()\n",
        "                        if(len(image) > 0):\n",
        "                            if (player_position in ['C', 'RW', 'LW', \"G\", \"D\"]):\n",
        "                                with open(f'faces/{first_name}_{last_name}_{birthdate}.png', 'wb+') as image_file:\n",
        "                                    image_file.write(image)\n",
        "                                    image_file.close()\n",
        "                            print(f\"Code: 0{prefix}{''.join(code)} - {first_name} {last_name}\")\n",
        "                except Exception as e:\n",
        "                    print(f'\\n0{prefix}{\"\".join(code)}')\n",
        "                    print(f'{e}')\n",
        "            else:\n",
        "                print(f\"Response {response.status_code} for code {prefix}{''.join(code)}\")\n",
        "\n",
        "\n",
        "sys.exit(1)"
      ],
      "execution_count": null,
      "outputs": []
    }
  ]
}