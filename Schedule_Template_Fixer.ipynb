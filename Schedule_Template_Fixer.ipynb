{
  "nbformat": 4,
  "nbformat_minor": 0,
  "metadata": {
    "colab": {
      "name": "Schedule Template Fixer",
      "provenance": [],
      "collapsed_sections": [],
      "authorship_tag": "ABX9TyPNryYRa6LIbgKcjB1I6hrM",
      "include_colab_link": true
    },
    "kernelspec": {
      "name": "python3",
      "display_name": "Python 3"
    }
  },
  "cells": [
    {
      "cell_type": "markdown",
      "metadata": {
        "id": "view-in-github",
        "colab_type": "text"
      },
      "source": [
        "<a href=\"https://colab.research.google.com/github/colinrsmall/ehm_roster_tools/blob/master/Schedule_Template_Fixer.ipynb\" target=\"_parent\"><img src=\"https://colab.research.google.com/assets/colab-badge.svg\" alt=\"Open In Colab\"/></a>"
      ]
    },
    {
      "cell_type": "code",
      "metadata": {
        "id": "tW10CqlbRRoM"
      },
      "source": [
        "from openpyxl import load_workbook\n",
        "import datetime, csv"
      ],
      "execution_count": 6,
      "outputs": []
    },
    {
      "cell_type": "code",
      "metadata": {
        "id": "e21r3F5fblEk"
      },
      "source": [
        "input_file = \"/content/allsvenskan.xlsx\"\n",
        "output_file = \"/content/schedule_czech_fixed.xlsx\""
      ],
      "execution_count": 1,
      "outputs": []
    },
    {
      "cell_type": "code",
      "metadata": {
        "id": "21QfQlntcgwK"
      },
      "source": [
        "schedule_file = load_workbook(filename = input_file)\n",
        "schedule = schedule_file.worksheets[0]\n",
        "\n",
        "with open('schedule.csv', 'w+', newline='') as csvfile:\n",
        "  csvwriter = csv.writer(csvfile)\n",
        "\n",
        "  csvwriter.writerow(['schedule_list'])\n",
        "  csvwriter.writerow('Road Team ID,Home Team ID,Day of Month,Month,Year Offset'.split(','))\n",
        "\n",
        "  game_date = ''\n",
        "  home_team = ''\n",
        "  away_team = ''\n",
        "\n",
        "  skip_next = False\n",
        "  for row in range(1, schedule.max_row):\n",
        "    if skip_next:\n",
        "      skip_next = False\n",
        "      continue\n",
        "    val = schedule[f\"A{row}\"].value\n",
        "    if schedule[f\"A{row}\"].value:\n",
        "      if \"Round\" in val or \"-\" in val:\n",
        "        continue\n",
        "      else:\n",
        "        try:\n",
        "          game_date = datetime.datetime.strptime(val, '%d.%m. %H:%M')\n",
        "        except ValueError:\n",
        "          home_team = val\n",
        "          away_team = schedule[f\"A{row+1}\"].value\n",
        "          csvwriter.writerow([away_team, home_team] + game_date.strftime('%m,%d').split(','))\n",
        "          skip_next = True"
      ],
      "execution_count": 12,
      "outputs": []
    },
    {
      "cell_type": "code",
      "metadata": {
        "id": "Lsk47MDRqfe9"
      },
      "source": [
        ""
      ],
      "execution_count": null,
      "outputs": []
    }
  ]
}