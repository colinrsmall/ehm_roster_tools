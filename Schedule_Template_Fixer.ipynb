{
  "nbformat": 4,
  "nbformat_minor": 0,
  "metadata": {
    "colab": {
      "name": "Schedule Template Fixer",
      "provenance": [],
      "collapsed_sections": [],
      "authorship_tag": "ABX9TyMktf0QfhrxjvUVWCrVmuZJ",
      "include_colab_link": true
    },
    "kernelspec": {
      "name": "python3",
      "display_name": "Python 3"
    }
  },
  "cells": [
    {
      "cell_type": "markdown",
      "metadata": {
        "id": "view-in-github",
        "colab_type": "text"
      },
      "source": [
        "<a href=\"https://colab.research.google.com/github/colinrsmall/ehm_roster_tools/blob/master/Schedule_Template_Fixer.ipynb\" target=\"_parent\"><img src=\"https://colab.research.google.com/assets/colab-badge.svg\" alt=\"Open In Colab\"/></a>"
      ]
    },
    {
      "cell_type": "code",
      "metadata": {
        "id": "tW10CqlbRRoM",
        "colab_type": "code",
        "colab": {}
      },
      "source": [
        "from openpyxl import load_workbook"
      ],
      "execution_count": 3,
      "outputs": []
    },
    {
      "cell_type": "code",
      "metadata": {
        "id": "e21r3F5fblEk",
        "colab_type": "code",
        "colab": {}
      },
      "source": [
        "input_file = \"/content/shl_sched.xlsx\"\n",
        "initial_year = 2020"
      ],
      "execution_count": 5,
      "outputs": []
    },
    {
      "cell_type": "code",
      "metadata": {
        "id": "21QfQlntcgwK",
        "colab_type": "code",
        "colab": {}
      },
      "source": [
        "schedule_file = load_workbook(filename = input_file)\n",
        "schedule = schedule_file.worksheets[0]\n",
        "for row in range(2, schedule.max_row):\n",
        "  if schedule[f\"A{row}\"].value:\n",
        "    schedule[f\"E{row}\"] = schedule[f\"D{row+1}\"].value\n",
        "    schedule.delete_rows(row+1)\n",
        "schedule_file.save(filename = input_file)"
      ],
      "execution_count": 26,
      "outputs": []
    }
  ]
}