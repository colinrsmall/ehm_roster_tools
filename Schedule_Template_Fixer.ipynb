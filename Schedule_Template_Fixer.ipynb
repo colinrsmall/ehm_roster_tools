{
  "nbformat": 4,
  "nbformat_minor": 0,
  "metadata": {
    "colab": {
      "name": "Schedule Template Fixer",
      "provenance": [],
      "collapsed_sections": [],
      "authorship_tag": "ABX9TyPYnlSpwMY1eJ7M6OgZwCRi",
      "include_colab_link": true
    },
    "kernelspec": {
      "name": "python3",
      "display_name": "Python 3"
    }
  },
  "cells": [
    {
      "cell_type": "markdown",
      "metadata": {
        "id": "view-in-github",
        "colab_type": "text"
      },
      "source": [
        "<a href=\"https://colab.research.google.com/github/colinrsmall/ehm_roster_tools/blob/master/Schedule_Template_Fixer.ipynb\" target=\"_parent\"><img src=\"https://colab.research.google.com/assets/colab-badge.svg\" alt=\"Open In Colab\"/></a>"
      ]
    },
    {
      "cell_type": "code",
      "metadata": {
        "id": "tW10CqlbRRoM",
        "colab_type": "code",
        "colab": {}
      },
      "source": [
        "from openpyxl import load_workbook\n",
        "import datetime"
      ],
      "execution_count": 10,
      "outputs": []
    },
    {
      "cell_type": "code",
      "metadata": {
        "id": "e21r3F5fblEk",
        "colab_type": "code",
        "colab": {}
      },
      "source": [
        "input_file = \"/content/schedule_czech.xlsx\"\n",
        "output_file = \"/content/schedule_czech_fixed.xlsx\""
      ],
      "execution_count": 15,
      "outputs": []
    },
    {
      "cell_type": "code",
      "metadata": {
        "id": "21QfQlntcgwK",
        "colab_type": "code",
        "colab": {}
      },
      "source": [
        "schedule_file = load_workbook(filename = input_file)\n",
        "schedule = schedule_file.worksheets[0]\n",
        "for row in range(1, schedule.max_row):\n",
        "  if schedule[f\"A{row}\"].value:\n",
        "    if isinstance(schedule[f\"A{row}\"].value, str) and (\"Round\" in schedule[f\"A{row}\"].value or \"-\" in schedule[f\"A{row}\"].value):\n",
        "      schedule.delete_rows(row)\n",
        "    \n",
        "    schedule[f\"B{row}\"] = schedule[f\"A{row+1}\"].value\n",
        "    schedule[f\"C{row}\"] = schedule[f\"A{row+2}\"].value\n",
        "    schedule[f\"D{row}\"] = schedule[f\"A{row+3}\"].value\n",
        "    schedule.delete_rows(row+1, 5)\n",
        "schedule_file.save(filename = output_file)"
      ],
      "execution_count": 16,
      "outputs": []
    },
    {
      "cell_type": "code",
      "metadata": {
        "id": "Lsk47MDRqfe9",
        "colab_type": "code",
        "colab": {}
      },
      "source": [
        ""
      ],
      "execution_count": null,
      "outputs": []
    }
  ]
}